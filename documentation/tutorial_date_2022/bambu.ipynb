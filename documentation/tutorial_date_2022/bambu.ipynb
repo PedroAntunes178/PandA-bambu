{
 "cells": [
  {
   "cell_type": "code",
   "execution_count": null,
   "metadata": {},
   "outputs": [],
   "source": [
    "!add-apt-repository -y ppa:git-core/ppa\n",
    "!apt-get update\n",
    "!apt-get install -y --no-install-recommends build-essential ca-certificates gcc-multilib git iverilog verilator\n",
    "!wget https://release.bambuhls.eu:8080/appimage/bambu-showcase.AppImage\n",
    "!chmod +x bambu-*.AppImage\n",
    "!ln -sf $PWD/bambu-*.AppImage /bin/bambu\n",
    "!ln -sf $PWD/bambu-*.AppImage /bin/spider\n",
    "!ln -sf $PWD/bambu-*.AppImage /bin/tree-panda-gcc\n",
    "!git clone --depth 1 --filter=blob:none --branch tutorial_2021 --sparse https://github.com/ferrandi/PandA-bambu.git\n",
    "%cd PandA-bambu\n",
    "!git sparse-checkout set documentation/tutorial_ics_2021\n",
    "%cd ..\n",
    "!mv PandA-bambu/documentation/tutorial_ics_2021/ bambu-tutorial"
   ]
  }
 ],
 "metadata": {
  "language_info": {
   "name": "plaintext"
  },
  "orig_nbformat": 4
 },
 "nbformat": 4,
 "nbformat_minor": 2
}
