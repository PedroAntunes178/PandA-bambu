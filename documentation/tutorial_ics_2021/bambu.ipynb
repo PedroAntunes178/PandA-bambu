{
  "nbformat": 4,
  "nbformat_minor": 0,
  "metadata": {
    "colab": {
      "name": "bambu.ipynb",
      "provenance": [],
      "collapsed_sections": []
    },
    "kernelspec": {
      "name": "python3",
      "display_name": "Python 3"
    },
    "language_info": {
      "name": "python"
    },
    "accelerator": "GPU"
  },
  "cells": [
    {
      "cell_type": "markdown",
      "metadata": {
        "id": "c97blcSRzP24"
      },
      "source": [
        "installation of the required packages"
      ]
    },
    {
      "cell_type": "code",
      "metadata": {
        "id": "LCIFdCihzM6S"
      },
      "source": [
        "!echo pip install gdown\n",
        "!gdown --id 1TRRbCaOeKFK83DtxQfOuGNA_ZP0RLYSG\n",
        "!tar xvf dist.tar.xz -C /\n",
        "!apt install verilator\n",
        "!apt install iverilog\n",
        "!apt install clang-6.0\n",
        "!apt install libclang-6.0-dev\n",
        "!apt install gcc-7-multilib\n",
        "!apt install libbdd-dev"
      ],
      "execution_count": null,
      "outputs": []
    },
    {
      "cell_type": "code",
      "metadata": {
        "id": "qFPREPl2IFbo"
      },
      "source": [
        "%env PATH=/opt/panda/bin:/usr/local/nvidia/bin:/usr/local/cuda/bin:/usr/local/sbin:/usr/local/bin:/usr/sbin:/usr/bin:/sbin:/bin:/tools/node/bin:/tools/google-cloud-sdk/bin:/opt/bin"
      ],
      "execution_count": null,
      "outputs": []
    },
    {
      "cell_type": "code",
      "metadata": {
        "id": "rT_5LDK7IkZQ"
      },
      "source": [
        "%%writefile arf.c\n",
        "/*\n",
        "\n",
        "     ARF: digital implementation of an  auto-regressive lattice filter. The benchmark consists of 16 multiplication and 12 addition operations. The ARF benchmark operates in a loop. This feature is exploited by exercising the simulation as closed loop system.\n",
        "   \n",
        "     from:\n",
        "     N. Mukherjee:\n",
        "     \"Built-in in Self-Test for Functional Blocks in Data-Path Architectures\", PhD thesis, McGill University, Montreal, 1996.\n",
        "\n",
        "     where it is referred to:\n",
        "     R. Jain:\n",
        "    \"High-Level Area-Delay Prediction with Application to Behavioral Synthesis\", PhD thesis, University of Southern California, Los Angeles, Usa, 1989.\n",
        "     \n",
        "\n",
        "*/\n",
        "\n",
        "void arf(int i1,int i2,int i3,int i4,int i5,int i6,\n",
        "         int *o1,int *o2,int *o3,int *o4,int G1,int G2, int G3, int G4, int GG1, int GG2){\n",
        "\n",
        "  int op1,op2,op3,op4,op5,op6,op7,op8; \n",
        "  int op9,op10,op11,op12,op13,op14,op15,op16;\n",
        "  int op17,op18,op19,op20,op21,op22,op23,op24;\n",
        "  int op25,op26,op27,op28;\n",
        " \n",
        "  op1 = GG1 * i1;\n",
        "  op2 = GG2 * i2;\n",
        "  op3 = G1 * i2;\n",
        "  op4 = G2 * i1;\n",
        "  op5 = G1 * i3;\n",
        "  op6 = G2 * i4;\n",
        "  op7 = G1 * i4;\n",
        "  op8 = G2 * i3;\n",
        "  \n",
        "  op9 = op1 + op2;\n",
        "  op10 = op3 + op4;\n",
        "  op11 = op5 + op6;\n",
        "  op12 = op7 + op8;\n",
        "\n",
        "  op13 = op11 + i5;\n",
        "  *o1 = op13;\n",
        "  op14 = i6 + op12;\n",
        "  *o2 = op14;\n",
        "  op15 = G1 * op14;\n",
        "  op16 = op13 * G2;\n",
        "  op17 = op13 * G1;\n",
        "  op18 = op14 * G2;\n",
        "  op19 = op15 * op16;\n",
        "  op20 = op17 + op18;\n",
        "  op21 = G1 * op20;\n",
        "  op22 = op19 * G2;\n",
        "  op23 = op19 * G1; \n",
        "  op24 = op20 * G2;\n",
        "  op25 = op21 + op22;\n",
        "  op26 = op23 + op24;\n",
        "  op27 = op9 + op25;\n",
        "  *o3 = op27;\n",
        "  op28 = op10 + op26;\n",
        "  *o4 = op28;\n",
        "\n",
        "}"
      ],
      "execution_count": null,
      "outputs": []
    },
    {
      "cell_type": "code",
      "metadata": {
        "id": "TQ--5UHHCkED"
      },
      "source": [
        "%%writefile test.xml\n",
        "<?xml version=\"1.0\"?>\n",
        "<function>\n",
        "  <testbench i1=\"13\" i2=\"5\" i3=\"1\" i4=\"14\" i5=\"4\" i6=\"15\" G1=\"11\" G2=\"11\" G3=\"4\" G4=\"2\" GG1=\"9\" GG2=\"11\"/>\n",
        "  <testbench i1=\"13\" i2=\"5\" i3=\"1\" i4=\"14\" i5=\"4\" i6=\"15\" G1=\"11\" G2=\"11\" G3=\"4\" G4=\"2\" GG1=\"9\" GG2=\"11\"/>\n",
        "</function>\n"
      ],
      "execution_count": null,
      "outputs": []
    },
    {
      "cell_type": "code",
      "metadata": {
        "id": "EK66jeKOVcRL"
      },
      "source": [
        "!bambu -v2 --print-dot arf.c --simulate --compiler=I386_GCC7"
      ],
      "execution_count": null,
      "outputs": []
    },
    {
      "cell_type": "code",
      "metadata": {
        "id": "pjUguz8lZr_2"
      },
      "source": [
        "!bambu -v2 --print-dot arf.c --simulate --compiler=I386_CLANG6"
      ],
      "execution_count": null,
      "outputs": []
    }
  ]
}
