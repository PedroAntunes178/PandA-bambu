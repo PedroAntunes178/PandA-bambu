{
  "nbformat": 4,
  "nbformat_minor": 0,
  "metadata": {
    "colab": {
      "name": "bambu.ipynb",
      "provenance": [],
      "collapsed_sections": []
    },
    "kernelspec": {
      "name": "python3",
      "display_name": "Python 3",
      "language": "python"
    }
  },
  "cells": [
    {
      "cell_type": "markdown",
      "metadata": {
        "id": "c97blcSRzP24"
      },
      "source": [
        "# **Initial setup**\n",
        "\n",
        "Install Bambu and required packages:"
      ]
    },
    {
      "cell_type": "code",
      "metadata": {
        "id": "ZoxqLkfA9zqM",
        "tags": [
          "outputPrepend"
        ],
        "outputId": "bd1e15a0-4857-4e4a-f6e5-0227fe2cd24c",
        "colab": {
          "base_uri": "https://localhost:8080/"
        }
      },
      "source": [
        "!echo \"deb http://dk.archive.ubuntu.com/ubuntu/ xenial main universe\" >> /etc/apt/sources.list\n",
        "!echo \"deb http://apt.llvm.org/bionic/ llvm-toolchain-bionic-11 main\" >> /etc/apt/sources.list\n",
        "!apt-get -o Acquire::AllowInsecureRepositories=true update\n",
        "!apt-get -o Acquire::AllowInsecureRepositories=true --allow-unauthenticated install -y --no-install-recommends ca-certificates git libbdd-dev iverilog verilator gcc-4.9 gcc-4.9-plugin-dev gcc-4.9-multilib g++-4.9 g++-multilib gcc-multilib gcc-7-plugin-dev g++-multilib clang-6.0 libclang-6.0-dev clang-11 libclang-11-dev\n",
        "!git clone https://github.com/SerenaC94/bambu-tutorial.git\n",
        "!tar xf bambu-tutorial/panda-dist.tar.gz -C /\n",
        "%env PATH=/opt/panda/bin:/usr/local/nvidia/bin:/usr/local/cuda/bin:/usr/local/sbin:/usr/local/bin:/usr/sbin:/usr/bin:/sbin:/bin:/tools/node/bin:/tools/google-cloud-sdk/bin:/opt/bin"
      ],
      "execution_count": null,
      "outputs": []
    },
    {
      "cell_type": "markdown",
      "metadata": {
        "id": "la-zNHdckW4f"
      },
      "source": [
        "# **Introduction**\n",
        "\n",
        "Have a look at the C code for **Exercise 1**: /content/bambu-tutorial/01-introduction/Exercise1/module.c\n",
        "\n",
        "Launch bambu:"
      ]
    },
    {
      "cell_type": "code",
      "metadata": {
        "id": "pjUguz8lZr_2"
      },
      "source": [
        "%cd /content/bambu-tutorial/01-introduction/Exercise1\n",
        "!bambu icrc.c --top-fname=icrc1 --simulator=VERILATOR --simulate --generate-tb=test_icrc1.xml -v2 --print-dot --pretty-print=a.c 2>&1 | tee icrc1.log"
      ],
      "execution_count": null,
      "outputs": []
    },
    {
      "cell_type": "markdown",
      "metadata": {
        "id": "zXTGPFLA1Dmj"
      },
      "source": [
        "Inspect the generated files in the explorer tab on the left:\n",
        "\n",
        "*   icrc1.v\n",
        "*   test_icrc1.xml\n",
        "*   simulate_icrc1.sh\n",
        "*   synthesize_Synthesis_icrc1.sh\n",
        "\n",
        "\n",
        "\n",
        "Visualize the FSM:"
      ]
    },
    {
      "cell_type": "code",
      "metadata": {
        "id": "IYUayuTqzb2I"
      },
      "source": [
        "from graphviz import Source\n",
        "Source.from_file('HLS_output/dot/icrc1/HLS_STGraph.dot')"
      ],
      "execution_count": null,
      "outputs": []
    },
    {
      "cell_type": "markdown",
      "metadata": {
        "id": "1vnkBTJD-lzY"
      },
      "source": [
        "Navigate through the explorer to see the code for other exercises, **edit** this box to execute them:"
      ]
    },
    {
      "cell_type": "code",
      "metadata": {
        "id": "IoMlPfH7-wMD"
      },
      "source": [
        "%cd /content/bambu-tutorial/01-introduction/Exercise2\n",
        "!./bambu.sh"
      ],
      "execution_count": null,
      "outputs": []
    },
    {
      "cell_type": "markdown",
      "metadata": {
        "id": "BZdmA4VKfyzL"
      },
      "source": [
        "# **Target selection and tool integration**\n",
        "\n",
        "**Exercise 1**: synthesize a module that returns the minimum and maximum value in an array.\n",
        "\n",
        "Start by modifying the code below:"
      ]
    },
    {
      "cell_type": "code",
      "metadata": {
        "id": "paTFkaqqiQBk"
      },
      "source": [
        "%cd /content/bambu-tutorial/02-target_customization/Exercise1/"
      ],
      "execution_count": null,
      "outputs": []
    },
    {
      "cell_type": "code",
      "metadata": {
        "id": "Qk6YNsG6hFS8"
      },
      "source": [
        "%%writefile minmax.c\n",
        "void max(int input[10], int * max)\n",
        "{\n",
        "   int local_max = input[0];\n",
        "   int i = 0;\n",
        "   for(i = 0; i < 10; i++)\n",
        "   {\n",
        "      if(input[i] > local_max)\n",
        "      {\n",
        "         local_max = input[i];\n",
        "      }\n",
        "   }\n",
        "   *max = local_max;\n",
        "}"
      ],
      "execution_count": null,
      "outputs": []
    },
    {
      "cell_type": "markdown",
      "metadata": {
        "id": "l2LzyiJbhMIs"
      },
      "source": [
        "Synthesize with bambu:"
      ]
    },
    {
      "cell_type": "code",
      "metadata": {
        "id": "ghLrn4d0hOH_"
      },
      "source": [
        "!bambu minmax.c"
      ],
      "execution_count": null,
      "outputs": []
    },
    {
      "cell_type": "markdown",
      "metadata": {
        "id": "mJgyQoCPBfAz"
      },
      "source": [
        "**Exercise 2**: write a testbench to test arrays with different elemets and different sizes.\n",
        "\n",
        "Start by modifying the code below **(change parameter names so that they correspond to function arguments in your code)**:"
      ]
    },
    {
      "cell_type": "code",
      "metadata": {
        "id": "5oOodjt2Bz9P"
      },
      "source": [
        "%%writefile test.xml\n",
        "<?xml version=\"1.0\"?>\n",
        "<function>\n",
        "   <testbench input=\"{0,1,2,3,4}\" num_elements=\"5\"/>\n",
        "</function>"
      ],
      "execution_count": null,
      "outputs": []
    },
    {
      "cell_type": "code",
      "metadata": {
        "id": "_n8JLBQYCzIA"
      },
      "source": [
        "!bambu minmax.c --generate-tb=test.xml --simulate"
      ],
      "execution_count": null,
      "outputs": []
    },
    {
      "cell_type": "markdown",
      "metadata": {
        "id": "cbLOvR1FEFoP"
      },
      "source": [
        "**Exercise 3**: compare simulations across different target platforms and frequencies.\n",
        "\n",
        "Start from the given command and modify the options appropriately to test the following combinations:\n",
        "\n",
        "\n",
        "*   xc4vlx100-10ff1513 – 66MHz\n",
        "*   5SGXEA7N2F45C1 – 200MHz\n",
        "*   xc7vx690t-3ffg1930-VVD – 100MHz\n",
        "*   xc7vx690t-3ffg1930-VVD – 333MHz\n",
        "*   xc7vx690t-3ffg1930-VVD – 400MHz\n",
        "\n"
      ]
    },
    {
      "cell_type": "code",
      "metadata": {
        "id": "FryYdWLmEh81"
      },
      "source": [
        "!bambu minmax.c --device-name=xc4vlx100-10ff1513 --clock-period=15 --simulate"
      ],
      "execution_count": null,
      "outputs": []
    },
    {
      "cell_type": "markdown",
      "metadata": {
        "id": "IlQDB6nqHqz0"
      },
      "source": [
        "# **Optimizations**\n",
        "\n",
        "## **Exercise 1**: \n",
        "\n",
        "Modify Bambu options to evaluate the effect of:\n",
        "\n",
        "\n",
        "*   different levels of optimization (-O0, -O1, -O2, -O3, -Os)\n",
        "*   vectorization (-ftree-vectorize)\n",
        "*   inlining (-finline-limit=100000)\n",
        "*   different frontend compilers (--compiler={I386_GCC49|I386_GCC7|I386_CLANG6|I386_CLANG11})\n"
      ]
    },
    {
      "cell_type": "markdown",
      "metadata": {
        "id": "dWWTy4TGZLfk"
      },
      "source": [
        "##### **ADPCM from CHStone benchmark suite**\n",
        "Adaptive Diferential Pulse-Code Modulation is an algorithm used to perform audio compression (mainly in telephony). It is part of the CHStone benchmark suite for C-based HLS tools."
      ]
    },
    {
      "cell_type": "code",
      "metadata": {
        "id": "YOXiFqzSIDR9"
      },
      "source": [
        "%cd /content/bambu-tutorial/03-optimizations/Exercise1/\n",
        "!bambu adpcm.c -O0 --simulate"
      ],
      "execution_count": null,
      "outputs": []
    },
    {
      "cell_type": "markdown",
      "metadata": {
        "id": "mJOV50V4IiE2"
      },
      "source": [
        "## **Exercise 2**: \n",
        "\n",
        "Use the command that yielded the best result in Exercise 1 and verify if SDC scheduling can introduce further improvements.\n",
        "\n",
        "* -s or --speculative-sdc-scheduling"
      ]
    },
    {
      "cell_type": "code",
      "metadata": {
        "id": "Qi_ZpIr1IzZ7"
      },
      "source": [
        "%cd /content/bambu-tutorial/03-optimizations/Exercise1/\n",
        "!bambu adpcm.c -O0 --simulate"
      ],
      "execution_count": null,
      "outputs": []
    },
    {
      "cell_type": "markdown",
      "metadata": {
        "id": "StGBkKaJJEfr"
      },
      "source": [
        "## **Exercise 3**:\n",
        "\n",
        "Modify Bambu options to evaluate the effect of different integer division implementations.\n",
        "\n",
        "--hls-div=<method\\>\n",
        "* none  - use a HDL based pipelined restoring division\n",
        "* nr1   - use a C-based non-restoring division with unrolling factor equal to 1 (default)\n",
        "* nr2   - use a C-based non-restoring division with unrolling factor equal to 2\n",
        "* NR    - use a C-based Newton-Raphson division\n",
        "* as    - use a C-based align divisor shift dividend method\n"
      ]
    },
    {
      "cell_type": "markdown",
      "metadata": {
        "id": "GNUiSuZVbBNS"
      },
      "source": [
        "##### **FPDiv from CHStone**\n",
        "Soft floating-point division implementation from the CHStone benchmark suite for C-based HLS."
      ]
    },
    {
      "cell_type": "code",
      "metadata": {
        "id": "bnEJ4nwuJLfo"
      },
      "source": [
        "%cd /content/bambu-tutorial/03-optimizations/Exercise3/\n",
        "!bambu dfdiv.c --simulate --clock-period=15 --hls-div=none"
      ],
      "execution_count": null,
      "outputs": []
    },
    {
      "cell_type": "markdown",
      "metadata": {
        "id": "YSRwNv1o2Jqx"
      },
      "source": [
        "## **Exercise 4**: \n",
        "\n",
        "Write C implementation that compute the following function:\n",
        "\n",
        "# $awesome\\_math(a,b,c) = acos(\\frac{a^2+b^2-c^2}{2ab})$\n",
        "\n",
        "Experiment with single and double precision data types, different softfloat and libm implementations offered by bambu."
      ]
    },
    {
      "cell_type": "markdown",
      "metadata": {
        "id": "mGggAqUu6SJv"
      },
      "source": [
        "Start by editing this code and then try different bambu options:\n",
        "* Different floating-point arithmetic implementations (--softfloat, --soft-fp, --flopoco)\n",
        "* Different libm implementations (--libm-std-rounding)"
      ]
    },
    {
      "cell_type": "code",
      "metadata": {
        "id": "LuhiArbj6XnA"
      },
      "source": [
        "%%writefile /content/bambu-tutorial/03-optimizations/Exercise4/module.c\n",
        "#include <math.h>\n",
        "float awesome_math(float a, float b, float c)\n",
        "{\n",
        "   return acosf((powf(a,2) + powf(b,2) - powf(c,2))/(2*a*b));\n",
        "}"
      ],
      "execution_count": null,
      "outputs": []
    },
    {
      "cell_type": "code",
      "metadata": {
        "id": "_Rg4Gthy2vDm"
      },
      "source": [
        "%cd /content/bambu-tutorial/03-optimizations/Exercise4/\n",
        "!bambu module.c -O3 -lm --simulate --top-fname=awesome_math --generate-tb=\"a=3.0,b=4.0,c=5.0\" --speculative-sdc-scheduling --libm-std-rounding --hls-div=none --soft-float"
      ],
      "execution_count": null,
      "outputs": []
    }
  ]
}
