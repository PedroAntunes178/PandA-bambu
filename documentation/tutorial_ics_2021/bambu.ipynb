{
  "nbformat": 4,
  "nbformat_minor": 0,
  "metadata": {
    "colab": {
      "name": "bambu.ipynb",
      "provenance": [],
      "collapsed_sections": []
    },
    "kernelspec": {
      "name": "python3",
      "display_name": "Python 3",
      "language": "python"
    }
  },
  "cells": [
    {
      "cell_type": "markdown",
      "metadata": {
        "id": "c97blcSRzP24"
      },
      "source": [
        "# **Initial setup**\n",
        "\n",
        "Install Bambu and required packages:"
      ]
    },
    {
      "cell_type": "code",
      "metadata": {
        "id": "ZoxqLkfA9zqM",
        "tags": [
          "outputPrepend"
        ]
      },
      "source": [
        "!echo \"deb http://dk.archive.ubuntu.com/ubuntu/ xenial main universe\" >> /etc/apt/sources.list\n",
        "!echo \"deb http://apt.llvm.org/bionic/ llvm-toolchain-bionic-11 main\" >> /etc/apt/sources.list\n",
        "!apt-get -o Acquire::AllowInsecureRepositories=true update\n",
        "!apt-get -o Acquire::AllowInsecureRepositories=true --allow-unauthenticated install -y --no-install-recommends ca-certificates git libbdd-dev iverilog verilator gcc-4.9 gcc-4.9-plugin-dev gcc-4.9-multilib g++-4.9 g++-multilib gcc-multilib gcc-7-plugin-dev g++-multilib clang-6.0 libclang-6.0-dev clang-11 libclang-11-dev\n",
        "!git clone https://github.com/SerenaC94/bambu-tutorial.git\n",
        "!tar xf bambu-tutorial/panda-dist.tar.gz -C /\n",
        "%env PATH=/opt/panda/bin:/usr/local/nvidia/bin:/usr/local/cuda/bin:/usr/local/sbin:/usr/local/bin:/usr/sbin:/usr/bin:/sbin:/bin:/tools/node/bin:/tools/google-cloud-sdk/bin:/opt/bin"
      ],
      "execution_count": 1,
      "outputs": [
        {
          "output_type": "stream",
          "name": "stdout",
          "text": [
            "packing liblsan0:amd64 (8.4.0-1ubuntu1~18.04) over (8.3.0-26ubuntu1~18.04) ...\n",
            "Preparing to unpack .../2-libtsan0_8.4.0-1ubuntu1~18.04_amd64.deb ...\n",
            "Unpacking libtsan0:amd64 (8.4.0-1ubuntu1~18.04) over (8.3.0-26ubuntu1~18.04) ...\n",
            "Preparing to unpack .../3-libcc1-0_8.4.0-1ubuntu1~18.04_amd64.deb ...\n",
            "Unpacking libcc1-0:amd64 (8.4.0-1ubuntu1~18.04) over (8.3.0-26ubuntu1~18.04) ...\n",
            "Preparing to unpack .../4-libatomic1_8.4.0-1ubuntu1~18.04_amd64.deb ...\n",
            "Unpacking libatomic1:amd64 (8.4.0-1ubuntu1~18.04) over (8.3.0-26ubuntu1~18.04) ...\n",
            "Preparing to unpack .../5-libgomp1_8.4.0-1ubuntu1~18.04_amd64.deb ...\n",
            "Unpacking libgomp1:amd64 (8.4.0-1ubuntu1~18.04) over (8.3.0-26ubuntu1~18.04) ...\n",
            "Preparing to unpack .../6-libgcc1_1%3a8.4.0-1ubuntu1~18.04_amd64.deb ...\n",
            "Unpacking libgcc1:amd64 (1:8.4.0-1ubuntu1~18.04) over (1:8.3.0-26ubuntu1~18.04) ...\n",
            "Setting up libgcc1:amd64 (1:8.4.0-1ubuntu1~18.04) ...\n",
            "(Reading database ... 15001 files and directories currently installed.)\n",
            "Preparing to unpack .../libc6_2.27-3ubuntu1.4_amd64.deb ...\n",
            "debconf: unable to initialize frontend: Dialog\n",
            "debconf: (No usable dialog-like program is installed, so the dialog based frontend cannot be used. at /usr/share/perl5/Debconf/FrontEnd/Dialog.pm line 76.)\n",
            "debconf: falling back to frontend: Readline\n",
            "Unpacking libc6:amd64 (2.27-3ubuntu1.4) over (2.27-3ubuntu1) ...\n",
            "Setting up libc6:amd64 (2.27-3ubuntu1.4) ...\n",
            "debconf: unable to initialize frontend: Dialog\n",
            "debconf: (No usable dialog-like program is installed, so the dialog based frontend cannot be used. at /usr/share/perl5/Debconf/FrontEnd/Dialog.pm line 76.)\n",
            "debconf: falling back to frontend: Readline\n",
            "(Reading database ... 15001 files and directories currently installed.)\n",
            "Preparing to unpack .../00-ca-certificates_20210119~18.04.1_all.deb ...\n",
            "Unpacking ca-certificates (20210119~18.04.1) over (20180409) ...\n",
            "Selecting previously unselected package libedit2:amd64.\n",
            "Preparing to unpack .../01-libedit2_3.1-20170329-1_amd64.deb ...\n",
            "Unpacking libedit2:amd64 (3.1-20170329-1) ...\n",
            "Selecting previously unselected package libkrb5support0:amd64.\n",
            "Preparing to unpack .../02-libkrb5support0_1.16-2ubuntu0.2_amd64.deb ...\n",
            "Unpacking libkrb5support0:amd64 (1.16-2ubuntu0.2) ...\n",
            "Selecting previously unselected package libk5crypto3:amd64.\n",
            "Preparing to unpack .../03-libk5crypto3_1.16-2ubuntu0.2_amd64.deb ...\n",
            "Unpacking libk5crypto3:amd64 (1.16-2ubuntu0.2) ...\n",
            "Selecting previously unselected package libkeyutils1:amd64.\n",
            "Preparing to unpack .../04-libkeyutils1_1.5.9-9.2ubuntu2_amd64.deb ...\n",
            "Unpacking libkeyutils1:amd64 (1.5.9-9.2ubuntu2) ...\n",
            "Selecting previously unselected package libkrb5-3:amd64.\n",
            "Preparing to unpack .../05-libkrb5-3_1.16-2ubuntu0.2_amd64.deb ...\n",
            "Unpacking libkrb5-3:amd64 (1.16-2ubuntu0.2) ...\n",
            "Selecting previously unselected package libgssapi-krb5-2:amd64.\n",
            "Preparing to unpack .../06-libgssapi-krb5-2_1.16-2ubuntu0.2_amd64.deb ...\n",
            "Unpacking libgssapi-krb5-2:amd64 (1.16-2ubuntu0.2) ...\n",
            "Selecting previously unselected package libpipeline1:amd64.\n",
            "Preparing to unpack .../07-libpipeline1_1.5.0-1_amd64.deb ...\n",
            "Unpacking libpipeline1:amd64 (1.5.0-1) ...\n",
            "Selecting previously unselected package libpsl5:amd64.\n",
            "Preparing to unpack .../08-libpsl5_0.19.1-5build1_amd64.deb ...\n",
            "Unpacking libpsl5:amd64 (0.19.1-5build1) ...\n",
            "Selecting previously unselected package binfmt-support.\n",
            "Preparing to unpack .../09-binfmt-support_2.1.8-2_amd64.deb ...\n",
            "Unpacking binfmt-support (2.1.8-2) ...\n",
            "Selecting previously unselected package libjsoncpp1:amd64.\n",
            "Preparing to unpack .../10-libjsoncpp1_1.7.4-3_amd64.deb ...\n",
            "Unpacking libjsoncpp1:amd64 (1.7.4-3) ...\n",
            "Selecting previously unselected package libllvm4.0:amd64.\n",
            "Preparing to unpack .../11-libllvm4.0_1%3a4.0.1-10_amd64.deb ...\n",
            "Unpacking libllvm4.0:amd64 (1:4.0.1-10) ...\n",
            "Selecting previously unselected package libgc1c2:amd64.\n",
            "Preparing to unpack .../12-libgc1c2_1%3a7.4.2-8ubuntu1_amd64.deb ...\n",
            "Unpacking libgc1c2:amd64 (1:7.4.2-8ubuntu1) ...\n",
            "Selecting previously unselected package libobjc4:amd64.\n",
            "Preparing to unpack .../13-libobjc4_8.4.0-1ubuntu1~18.04_amd64.deb ...\n",
            "Unpacking libobjc4:amd64 (8.4.0-1ubuntu1~18.04) ...\n",
            "Selecting previously unselected package libobjc-7-dev:amd64.\n",
            "Preparing to unpack .../14-libobjc-7-dev_7.5.0-3ubuntu1~18.04_amd64.deb ...\n",
            "Unpacking libobjc-7-dev:amd64 (7.5.0-3ubuntu1~18.04) ...\n",
            "Selecting previously unselected package libclang-common-4.0-dev.\n",
            "Preparing to unpack .../15-libclang-common-4.0-dev_1%3a4.0.1-10_amd64.deb ...\n",
            "Unpacking libclang-common-4.0-dev (1:4.0.1-10) ...\n",
            "Selecting previously unselected package libclang1-4.0:amd64.\n",
            "Preparing to unpack .../16-libclang1-4.0_1%3a4.0.1-10_amd64.deb ...\n",
            "Unpacking libclang1-4.0:amd64 (1:4.0.1-10) ...\n",
            "Selecting previously unselected package clang-4.0.\n",
            "Preparing to unpack .../17-clang-4.0_1%3a4.0.1-10_amd64.deb ...\n",
            "Unpacking clang-4.0 (1:4.0.1-10) ...\n",
            "Selecting previously unselected package gcc-4.9-base:amd64.\n",
            "Preparing to unpack .../18-gcc-4.9-base_4.9.3-13ubuntu2_amd64.deb ...\n",
            "Unpacking gcc-4.9-base:amd64 (4.9.3-13ubuntu2) ...\n",
            "Selecting previously unselected package libmpfr4:amd64.\n",
            "Preparing to unpack .../19-libmpfr4_3.1.4-1_amd64.deb ...\n",
            "Unpacking libmpfr4:amd64 (3.1.4-1) ...\n",
            "Selecting previously unselected package cpp-4.9.\n",
            "Preparing to unpack .../20-cpp-4.9_4.9.3-13ubuntu2_amd64.deb ...\n",
            "Unpacking cpp-4.9 (4.9.3-13ubuntu2) ...\n",
            "Selecting previously unselected package libasan1:amd64.\n",
            "Preparing to unpack .../21-libasan1_4.9.3-13ubuntu2_amd64.deb ...\n",
            "Unpacking libasan1:amd64 (4.9.3-13ubuntu2) ...\n",
            "Selecting previously unselected package libgcc-4.9-dev:amd64.\n",
            "Preparing to unpack .../22-libgcc-4.9-dev_4.9.3-13ubuntu2_amd64.deb ...\n",
            "Unpacking libgcc-4.9-dev:amd64 (4.9.3-13ubuntu2) ...\n",
            "Selecting previously unselected package gcc-4.9.\n",
            "Preparing to unpack .../23-gcc-4.9_4.9.3-13ubuntu2_amd64.deb ...\n",
            "Unpacking gcc-4.9 (4.9.3-13ubuntu2) ...\n",
            "Selecting previously unselected package libstdc++-4.9-dev:amd64.\n",
            "Preparing to unpack .../24-libstdc++-4.9-dev_4.9.3-13ubuntu2_amd64.deb ...\n",
            "Unpacking libstdc++-4.9-dev:amd64 (4.9.3-13ubuntu2) ...\n",
            "Selecting previously unselected package g++-4.9.\n",
            "Preparing to unpack .../25-g++-4.9_4.9.3-13ubuntu2_amd64.deb ...\n",
            "Unpacking g++-4.9 (4.9.3-13ubuntu2) ...\n",
            "Selecting previously unselected package libc6-i386.\n",
            "Preparing to unpack .../26-libc6-i386_2.27-3ubuntu1.4_amd64.deb ...\n",
            "Unpacking libc6-i386 (2.27-3ubuntu1.4) ...\n",
            "Selecting previously unselected package libc6-dev-i386.\n",
            "Preparing to unpack .../27-libc6-dev-i386_2.27-3ubuntu1.4_amd64.deb ...\n",
            "Unpacking libc6-dev-i386 (2.27-3ubuntu1.4) ...\n",
            "Selecting previously unselected package libc6-x32.\n",
            "Preparing to unpack .../28-libc6-x32_2.27-3ubuntu1.4_amd64.deb ...\n",
            "Unpacking libc6-x32 (2.27-3ubuntu1.4) ...\n",
            "Selecting previously unselected package libc6-dev-x32.\n",
            "Preparing to unpack .../29-libc6-dev-x32_2.27-3ubuntu1.4_amd64.deb ...\n",
            "Unpacking libc6-dev-x32 (2.27-3ubuntu1.4) ...\n",
            "Selecting previously unselected package lib32gcc1.\n",
            "Preparing to unpack .../30-lib32gcc1_1%3a8.4.0-1ubuntu1~18.04_amd64.deb ...\n",
            "Unpacking lib32gcc1 (1:8.4.0-1ubuntu1~18.04) ...\n",
            "Selecting previously unselected package libx32gcc1.\n",
            "Preparing to unpack .../31-libx32gcc1_1%3a8.4.0-1ubuntu1~18.04_amd64.deb ...\n",
            "Unpacking libx32gcc1 (1:8.4.0-1ubuntu1~18.04) ...\n",
            "Selecting previously unselected package lib32gomp1.\n",
            "Preparing to unpack .../32-lib32gomp1_8.4.0-1ubuntu1~18.04_amd64.deb ...\n",
            "Unpacking lib32gomp1 (8.4.0-1ubuntu1~18.04) ...\n",
            "Selecting previously unselected package libx32gomp1.\n",
            "Preparing to unpack .../33-libx32gomp1_8.4.0-1ubuntu1~18.04_amd64.deb ...\n",
            "Unpacking libx32gomp1 (8.4.0-1ubuntu1~18.04) ...\n",
            "Selecting previously unselected package lib32itm1.\n",
            "Preparing to unpack .../34-lib32itm1_8.4.0-1ubuntu1~18.04_amd64.deb ...\n",
            "Unpacking lib32itm1 (8.4.0-1ubuntu1~18.04) ...\n",
            "Selecting previously unselected package libx32itm1.\n",
            "Preparing to unpack .../35-libx32itm1_8.4.0-1ubuntu1~18.04_amd64.deb ...\n",
            "Unpacking libx32itm1 (8.4.0-1ubuntu1~18.04) ...\n",
            "Selecting previously unselected package lib32atomic1.\n",
            "Preparing to unpack .../36-lib32atomic1_8.4.0-1ubuntu1~18.04_amd64.deb ...\n",
            "Unpacking lib32atomic1 (8.4.0-1ubuntu1~18.04) ...\n",
            "Selecting previously unselected package libx32atomic1.\n",
            "Preparing to unpack .../37-libx32atomic1_8.4.0-1ubuntu1~18.04_amd64.deb ...\n",
            "Unpacking libx32atomic1 (8.4.0-1ubuntu1~18.04) ...\n",
            "Selecting previously unselected package lib32asan1.\n",
            "Preparing to unpack .../38-lib32asan1_4.9.3-13ubuntu2_amd64.deb ...\n",
            "Unpacking lib32asan1 (4.9.3-13ubuntu2) ...\n",
            "Selecting previously unselected package libx32asan1.\n",
            "Preparing to unpack .../39-libx32asan1_4.9.3-13ubuntu2_amd64.deb ...\n",
            "Unpacking libx32asan1 (4.9.3-13ubuntu2) ...\n",
            "Selecting previously unselected package lib32stdc++6.\n",
            "Preparing to unpack .../40-lib32stdc++6_8.4.0-1ubuntu1~18.04_amd64.deb ...\n",
            "Unpacking lib32stdc++6 (8.4.0-1ubuntu1~18.04) ...\n",
            "Selecting previously unselected package lib32ubsan0.\n",
            "Preparing to unpack .../41-lib32ubsan0_7.5.0-3ubuntu1~18.04_amd64.deb ...\n",
            "Unpacking lib32ubsan0 (7.5.0-3ubuntu1~18.04) ...\n",
            "Selecting previously unselected package libx32stdc++6.\n",
            "Preparing to unpack .../42-libx32stdc++6_8.4.0-1ubuntu1~18.04_amd64.deb ...\n",
            "Unpacking libx32stdc++6 (8.4.0-1ubuntu1~18.04) ...\n",
            "Selecting previously unselected package libx32ubsan0.\n",
            "Preparing to unpack .../43-libx32ubsan0_7.5.0-3ubuntu1~18.04_amd64.deb ...\n",
            "Unpacking libx32ubsan0 (7.5.0-3ubuntu1~18.04) ...\n",
            "Selecting previously unselected package lib32cilkrts5.\n",
            "Preparing to unpack .../44-lib32cilkrts5_7.5.0-3ubuntu1~18.04_amd64.deb ...\n",
            "Unpacking lib32cilkrts5 (7.5.0-3ubuntu1~18.04) ...\n",
            "Selecting previously unselected package libx32cilkrts5.\n",
            "Preparing to unpack .../45-libx32cilkrts5_7.5.0-3ubuntu1~18.04_amd64.deb ...\n",
            "Unpacking libx32cilkrts5 (7.5.0-3ubuntu1~18.04) ...\n",
            "Selecting previously unselected package lib32quadmath0.\n",
            "Preparing to unpack .../46-lib32quadmath0_8.4.0-1ubuntu1~18.04_amd64.deb ...\n",
            "Unpacking lib32quadmath0 (8.4.0-1ubuntu1~18.04) ...\n",
            "Selecting previously unselected package libx32quadmath0.\n",
            "Preparing to unpack .../47-libx32quadmath0_8.4.0-1ubuntu1~18.04_amd64.deb ...\n",
            "Unpacking libx32quadmath0 (8.4.0-1ubuntu1~18.04) ...\n",
            "Selecting previously unselected package lib32gcc-4.9-dev.\n",
            "Preparing to unpack .../48-lib32gcc-4.9-dev_4.9.3-13ubuntu2_amd64.deb ...\n",
            "Unpacking lib32gcc-4.9-dev (4.9.3-13ubuntu2) ...\n",
            "Selecting previously unselected package libx32gcc-4.9-dev.\n",
            "Preparing to unpack .../49-libx32gcc-4.9-dev_4.9.3-13ubuntu2_amd64.deb ...\n",
            "Unpacking libx32gcc-4.9-dev (4.9.3-13ubuntu2) ...\n",
            "Selecting previously unselected package gcc-4.9-multilib.\n",
            "Preparing to unpack .../50-gcc-4.9-multilib_4.9.3-13ubuntu2_amd64.deb ...\n",
            "Unpacking gcc-4.9-multilib (4.9.3-13ubuntu2) ...\n",
            "Selecting previously unselected package lib32stdc++-4.9-dev.\n",
            "Preparing to unpack .../51-lib32stdc++-4.9-dev_4.9.3-13ubuntu2_amd64.deb ...\n",
            "Unpacking lib32stdc++-4.9-dev (4.9.3-13ubuntu2) ...\n",
            "Selecting previously unselected package libx32stdc++-4.9-dev.\n",
            "Preparing to unpack .../52-libx32stdc++-4.9-dev_4.9.3-13ubuntu2_amd64.deb ...\n",
            "Unpacking libx32stdc++-4.9-dev (4.9.3-13ubuntu2) ...\n",
            "Selecting previously unselected package g++-4.9-multilib.\n",
            "Preparing to unpack .../53-g++-4.9-multilib_4.9.3-13ubuntu2_amd64.deb ...\n",
            "Unpacking g++-4.9-multilib (4.9.3-13ubuntu2) ...\n",
            "Selecting previously unselected package libgmpxx4ldbl:amd64.\n",
            "Preparing to unpack .../54-libgmpxx4ldbl_2%3a6.1.2+dfsg-2_amd64.deb ...\n",
            "Unpacking libgmpxx4ldbl:amd64 (2:6.1.2+dfsg-2) ...\n",
            "Selecting previously unselected package libgmp-dev:amd64.\n",
            "Preparing to unpack .../55-libgmp-dev_2%3a6.1.2+dfsg-2_amd64.deb ...\n",
            "Unpacking libgmp-dev:amd64 (2:6.1.2+dfsg-2) ...\n",
            "Selecting previously unselected package gcc-4.9-plugin-dev.\n",
            "Preparing to unpack .../56-gcc-4.9-plugin-dev_4.9.3-13ubuntu2_amd64.deb ...\n",
            "Unpacking gcc-4.9-plugin-dev (4.9.3-13ubuntu2) ...\n",
            "Selecting previously unselected package libnghttp2-14:amd64.\n",
            "Preparing to unpack .../57-libnghttp2-14_1.30.0-1ubuntu1_amd64.deb ...\n",
            "Unpacking libnghttp2-14:amd64 (1.30.0-1ubuntu1) ...\n",
            "Selecting previously unselected package librtmp1:amd64.\n",
            "Preparing to unpack .../58-librtmp1_2.4+20151223.gitfa8646d.1-1_amd64.deb ...\n",
            "Unpacking librtmp1:amd64 (2.4+20151223.gitfa8646d.1-1) ...\n",
            "Selecting previously unselected package libcurl3-gnutls:amd64.\n",
            "Preparing to unpack .../59-libcurl3-gnutls_7.58.0-2ubuntu3.13_amd64.deb ...\n",
            "Unpacking libcurl3-gnutls:amd64 (7.58.0-2ubuntu3.13) ...\n",
            "Selecting previously unselected package liberror-perl.\n",
            "Preparing to unpack .../60-liberror-perl_0.17025-1_all.deb ...\n",
            "Unpacking liberror-perl (0.17025-1) ...\n",
            "Selecting previously unselected package git-man.\n",
            "Preparing to unpack .../61-git-man_1%3a2.17.1-1ubuntu0.8_all.deb ...\n",
            "Unpacking git-man (1:2.17.1-1ubuntu0.8) ...\n",
            "Selecting previously unselected package git.\n",
            "Preparing to unpack .../62-git_1%3a2.17.1-1ubuntu0.8_amd64.deb ...\n",
            "Unpacking git (1:2.17.1-1ubuntu0.8) ...\n",
            "Selecting previously unselected package iverilog.\n",
            "Preparing to unpack .../63-iverilog_10.1-0.1build1_amd64.deb ...\n",
            "Unpacking iverilog (10.1-0.1build1) ...\n",
            "Selecting previously unselected package libbdd0c2.\n",
            "Preparing to unpack .../64-libbdd0c2_2.4-11_amd64.deb ...\n",
            "Unpacking libbdd0c2 (2.4-11) ...\n",
            "Selecting previously unselected package libbdd-dev.\n",
            "Preparing to unpack .../65-libbdd-dev_2.4-11_amd64.deb ...\n",
            "Unpacking libbdd-dev (2.4-11) ...\n",
            "Selecting previously unselected package libclang-4.0-dev.\n",
            "Preparing to unpack .../66-libclang-4.0-dev_1%3a4.0.1-10_amd64.deb ...\n",
            "Unpacking libclang-4.0-dev (1:4.0.1-10) ...\n",
            "Selecting previously unselected package libtinfo-dev:amd64.\n",
            "Preparing to unpack .../67-libtinfo-dev_6.1-1ubuntu1.18.04_amd64.deb ...\n",
            "Unpacking libtinfo-dev:amd64 (6.1-1ubuntu1.18.04) ...\n",
            "Selecting previously unselected package llvm-4.0-runtime.\n",
            "Preparing to unpack .../68-llvm-4.0-runtime_1%3a4.0.1-10_amd64.deb ...\n",
            "Unpacking llvm-4.0-runtime (1:4.0.1-10) ...\n",
            "Selecting previously unselected package llvm-4.0.\n",
            "Preparing to unpack .../69-llvm-4.0_1%3a4.0.1-10_amd64.deb ...\n",
            "Unpacking llvm-4.0 (1:4.0.1-10) ...\n",
            "Selecting previously unselected package libffi-dev:amd64.\n",
            "Preparing to unpack .../70-libffi-dev_3.2.1-8_amd64.deb ...\n",
            "Unpacking libffi-dev:amd64 (3.2.1-8) ...\n",
            "Selecting previously unselected package llvm-4.0-dev.\n",
            "Preparing to unpack .../71-llvm-4.0-dev_1%3a4.0.1-10_amd64.deb ...\n",
            "Unpacking llvm-4.0-dev (1:4.0.1-10) ...\n",
            "Selecting previously unselected package verilator.\n",
            "Preparing to unpack .../72-verilator_3.916-1build1_amd64.deb ...\n",
            "Unpacking verilator (3.916-1build1) ...\n",
            "Setting up libquadmath0:amd64 (8.4.0-1ubuntu1~18.04) ...\n",
            "Setting up libedit2:amd64 (3.1-20170329-1) ...\n",
            "Setting up libc6-x32 (2.27-3ubuntu1.4) ...\n",
            "Setting up libgomp1:amd64 (8.4.0-1ubuntu1~18.04) ...\n",
            "Setting up libatomic1:amd64 (8.4.0-1ubuntu1~18.04) ...\n",
            "Setting up git-man (1:2.17.1-1ubuntu0.8) ...\n",
            "Setting up libcc1-0:amd64 (8.4.0-1ubuntu1~18.04) ...\n",
            "Setting up libx32gcc1 (1:8.4.0-1ubuntu1~18.04) ...\n",
            "Setting up libnghttp2-14:amd64 (1.30.0-1ubuntu1) ...\n",
            "Setting up liberror-perl (0.17025-1) ...\n",
            "Setting up libpsl5:amd64 (0.19.1-5build1) ...\n",
            "Setting up libbdd0c2 (2.4-11) ...\n",
            "Setting up libtsan0:amd64 (8.4.0-1ubuntu1~18.04) ...\n",
            "Setting up libtinfo-dev:amd64 (6.1-1ubuntu1.18.04) ...\n",
            "Setting up libgc1c2:amd64 (1:7.4.2-8ubuntu1) ...\n",
            "Setting up libffi-dev:amd64 (3.2.1-8) ...\n",
            "Setting up iverilog (10.1-0.1build1) ...\n",
            "Setting up libpipeline1:amd64 (1.5.0-1) ...\n",
            "Setting up libc6-i386 (2.27-3ubuntu1.4) ...\n",
            "Setting up librtmp1:amd64 (2.4+20151223.gitfa8646d.1-1) ...\n",
            "Setting up libkrb5support0:amd64 (1.16-2ubuntu0.2) ...\n",
            "Setting up libx32stdc++6 (8.4.0-1ubuntu1~18.04) ...\n",
            "Setting up lib32atomic1 (8.4.0-1ubuntu1~18.04) ...\n",
            "Setting up libx32atomic1 (8.4.0-1ubuntu1~18.04) ...\n",
            "Setting up liblsan0:amd64 (8.4.0-1ubuntu1~18.04) ...\n",
            "Setting up libx32gomp1 (8.4.0-1ubuntu1~18.04) ...\n",
            "Setting up libmpx2:amd64 (8.4.0-1ubuntu1~18.04) ...\n",
            "Setting up libllvm4.0:amd64 (1:4.0.1-10) ...\n",
            "Setting up libclang1-4.0:amd64 (1:4.0.1-10) ...\n",
            "Setting up libx32itm1 (8.4.0-1ubuntu1~18.04) ...\n",
            "Setting up libmpfr4:amd64 (3.1.4-1) ...\n",
            "Setting up gcc-4.9-base:amd64 (4.9.3-13ubuntu2) ...\n",
            "Setting up libc-dev-bin (2.27-3ubuntu1.4) ...\n",
            "Setting up verilator (3.916-1build1) ...\n",
            "Setting up libkeyutils1:amd64 (1.5.9-9.2ubuntu2) ...\n",
            "Setting up libgmpxx4ldbl:amd64 (2:6.1.2+dfsg-2) ...\n",
            "Setting up lib32quadmath0 (8.4.0-1ubuntu1~18.04) ...\n",
            "Setting up ca-certificates (20210119~18.04.1) ...\n",
            "debconf: unable to initialize frontend: Dialog\n",
            "debconf: (No usable dialog-like program is installed, so the dialog based frontend cannot be used. at /usr/share/perl5/Debconf/FrontEnd/Dialog.pm line 76.)\n",
            "debconf: falling back to frontend: Readline\n",
            "Updating certificates in /etc/ssl/certs...\n",
            "23 added, 27 removed; done.\n",
            "Setting up libc6-dev:amd64 (2.27-3ubuntu1.4) ...\n",
            "Setting up lib32itm1 (8.4.0-1ubuntu1~18.04) ...\n",
            "Setting up libitm1:amd64 (8.4.0-1ubuntu1~18.04) ...\n",
            "Setting up libx32quadmath0 (8.4.0-1ubuntu1~18.04) ...\n",
            "Setting up lib32gcc1 (1:8.4.0-1ubuntu1~18.04) ...\n",
            "Setting up libjsoncpp1:amd64 (1.7.4-3) ...\n",
            "Setting up libgmp-dev:amd64 (2:6.1.2+dfsg-2) ...\n",
            "Setting up binfmt-support (2.1.8-2) ...\n",
            "mount: /proc/sys/fs/binfmt_misc: permission denied.\n",
            "update-binfmts: warning: Couldn't mount the binfmt_misc filesystem on /proc/sys/fs/binfmt_misc.\n",
            "mount: /proc/sys/fs/binfmt_misc: permission denied.\n",
            "update-binfmts: warning: Couldn't mount the binfmt_misc filesystem on /proc/sys/fs/binfmt_misc.\n",
            "invoke-rc.d: could not determine current runlevel\n",
            "invoke-rc.d: policy-rc.d denied execution of start.\n",
            "Setting up libk5crypto3:amd64 (1.16-2ubuntu0.2) ...\n",
            "Setting up libobjc4:amd64 (8.4.0-1ubuntu1~18.04) ...\n",
            "Setting up libx32cilkrts5 (7.5.0-3ubuntu1~18.04) ...\n",
            "Setting up lib32gomp1 (8.4.0-1ubuntu1~18.04) ...\n",
            "Setting up libclang-common-4.0-dev (1:4.0.1-10) ...\n",
            "Setting up libx32ubsan0 (7.5.0-3ubuntu1~18.04) ...\n",
            "Setting up libbdd-dev (2.4-11) ...\n",
            "Setting up llvm-4.0-runtime (1:4.0.1-10) ...\n",
            "mount: /proc/sys/fs/binfmt_misc: permission denied.\n",
            "update-binfmts: warning: Couldn't mount the binfmt_misc filesystem on /proc/sys/fs/binfmt_misc.\n",
            "Setting up cpp-4.9 (4.9.3-13ubuntu2) ...\n",
            "Setting up libobjc-7-dev:amd64 (7.5.0-3ubuntu1~18.04) ...\n",
            "Setting up libx32asan1 (4.9.3-13ubuntu2) ...\n",
            "Setting up libasan1:amd64 (4.9.3-13ubuntu2) ...\n",
            "Setting up libgcc-4.9-dev:amd64 (4.9.3-13ubuntu2) ...\n",
            "Setting up lib32asan1 (4.9.3-13ubuntu2) ...\n",
            "Setting up lib32stdc++6 (8.4.0-1ubuntu1~18.04) ...\n",
            "Setting up libkrb5-3:amd64 (1.16-2ubuntu0.2) ...\n",
            "Setting up lib32ubsan0 (7.5.0-3ubuntu1~18.04) ...\n",
            "Setting up lib32cilkrts5 (7.5.0-3ubuntu1~18.04) ...\n",
            "Setting up libc6-dev-i386 (2.27-3ubuntu1.4) ...\n",
            "Setting up libc6-dev-x32 (2.27-3ubuntu1.4) ...\n",
            "Setting up libclang-4.0-dev (1:4.0.1-10) ...\n",
            "Setting up libstdc++-4.9-dev:amd64 (4.9.3-13ubuntu2) ...\n",
            "Setting up gcc-4.9 (4.9.3-13ubuntu2) ...\n",
            "Setting up clang-4.0 (1:4.0.1-10) ...\n",
            "Setting up llvm-4.0 (1:4.0.1-10) ...\n",
            "Setting up gcc-4.9-plugin-dev (4.9.3-13ubuntu2) ...\n",
            "Setting up libgssapi-krb5-2:amd64 (1.16-2ubuntu0.2) ...\n",
            "Setting up lib32gcc-4.9-dev (4.9.3-13ubuntu2) ...\n",
            "Setting up lib32stdc++-4.9-dev (4.9.3-13ubuntu2) ...\n",
            "Setting up g++-4.9 (4.9.3-13ubuntu2) ...\n",
            "Setting up libx32gcc-4.9-dev (4.9.3-13ubuntu2) ...\n",
            "Setting up llvm-4.0-dev (1:4.0.1-10) ...\n",
            "Setting up gcc-4.9-multilib (4.9.3-13ubuntu2) ...\n",
            "Setting up libcurl3-gnutls:amd64 (7.58.0-2ubuntu3.13) ...\n",
            "Setting up libx32stdc++-4.9-dev (4.9.3-13ubuntu2) ...\n",
            "Setting up git (1:2.17.1-1ubuntu0.8) ...\n",
            "Setting up g++-4.9-multilib (4.9.3-13ubuntu2) ...\n",
            "Processing triggers for libc-bin (2.27-3ubuntu1) ...\n",
            "Processing triggers for ca-certificates (20210119~18.04.1) ...\n",
            "Updating certificates in /etc/ssl/certs...\n",
            "0 added, 0 removed; done.\n",
            "Running hooks in /etc/ca-certificates/update.d...\n",
            "done.\n",
            "Cloning into 'bambu-tutorial'...\n",
            "remote: Enumerating objects: 208, done.\u001b[K\n",
            "remote: Counting objects: 100% (52/52), done.\u001b[K\n",
            "remote: Compressing objects: 100% (42/42), done.\u001b[K\n",
            "remote: Total 208 (delta 10), reused 51 (delta 9), pack-reused 156\u001b[K\n",
            "Receiving objects: 100% (208/208), 212.07 MiB | 7.63 MiB/s, done.\n",
            "Resolving deltas: 100% (32/32), done.\n",
            "env: PATH=/opt/panda/bin:/usr/local/nvidia/bin:/usr/local/cuda/bin:/usr/local/sbin:/usr/local/bin:/usr/sbin:/usr/bin:/sbin:/bin:/tools/node/bin:/tools/google-cloud-sdk/bin:/opt/bin\n"
          ]
        }
      ]
    },
    {
      "cell_type": "markdown",
      "metadata": {
        "id": "la-zNHdckW4f"
      },
      "source": [
        "# **Introduction**\n",
        "\n",
        "Have a look at the C code for **Exercise 1**: /content/bambu-tutorial/01-introduction/Exercise1/module.c\n",
        "\n",
        "Launch bambu:"
      ]
    },
    {
      "cell_type": "code",
      "metadata": {
        "id": "pjUguz8lZr_2"
      },
      "source": [
        "%cd /content/bambu-tutorial/01-introduction/Exercise1\n",
        "!bambu icrc.c --top-fname=icrc1 --simulator=VERILATOR --simulate --generate-tb=test_icrc1.xml -v2 --print-dot --pretty-print=a.c 2>&1 | tee icrc1.log"
      ],
      "execution_count": 3,
      "outputs": [
        {
          "output_type": "stream",
          "name": "stdout",
          "text": [
            "[Errno 2] No such file or directory: '/content/bambu-tutorial/01-introduction/Exercise1'\n",
            "/opt/colab\n",
            " ==  Bambu executed with: bambu --top-fname=icrc1 --simulator=VERILATOR --simulate --generate-tb=test_icrc1.xml -v2 --print-dot --pretty-print=a.c icrc.c \n",
            "\n",
            "\n",
            "********************************************************************************\n",
            "                    ____                  _\n",
            "                   | __ )  __ _ _ __ ___ | |_   _   _\n",
            "                   |  _ \\ / _` | '_ ` _ \\| '_ \\| | | |\n",
            "                   | |_) | (_| | | | | | | |_) | |_| |\n",
            "                   |____/ \\__,_|_| |_| |_|_.__/ \\__,_|\n",
            "\n",
            "********************************************************************************\n",
            "                         High-Level Synthesis Tool\n",
            "\n",
            "                         Politecnico di Milano - DEIB\n",
            "                          System Architectures Group\n",
            "********************************************************************************\n",
            "                Copyright (C) 2004-2021 Politecnico di Milano\n",
            "Version: PandA 0.9.7-dev - Revision c318ea52ad45d9149d2f2d2a40a8af130ee11f55-panda-0.9.7-dev\n",
            "\n",
            "Parameters parsed in 0.00 seconds\n",
            "\n",
            "Target technology = FPGA\n",
            "Library Name     : STD_FU\n",
            "  Total cells    : 3\n",
            "  - combinational: 0\n",
            "  - others: 3\n",
            "\n",
            "Library Name     : STD_FU\n",
            "  Total cells    : 10\n",
            "  - combinational: 0\n",
            "  - others: 10\n",
            "\n",
            "Library Name     : STD_FU\n",
            "  Total cells    : 31\n",
            "  - combinational: 0\n",
            "  - others: 31\n",
            "\n",
            "Library Name     : STD_FU\n",
            "  Total cells    : 8\n",
            "  - combinational: 0\n",
            "  - others: 8\n",
            "\n",
            "Library Name     : STD_FU\n",
            "  Total cells    : 56\n",
            "  - combinational: 0\n",
            "  - others: 56\n",
            "\n",
            "Library Name     : CS_COMPONENT\n",
            "  Total cells    : 16\n",
            "  - combinational: 0\n",
            "  - others: 16\n",
            "\n",
            "Library Name     : STD_FU\n",
            "  Total cells    : 2\n",
            "  - combinational: 0\n",
            "  - others: 2\n",
            "\n",
            "Library Name     : STD_FU\n",
            "  Total cells    : 0\n",
            "  - combinational: 0\n",
            "  - others: 0\n",
            "\n",
            "Library Name     : STD_FU\n",
            "  Total cells    : 0\n",
            "  - combinational: 0\n",
            "  - others: 0\n",
            "\n",
            "Library Name     : STD_FU\n",
            "  Total cells    : 17\n",
            "  - combinational: 0\n",
            "  - others: 17\n",
            "\n",
            "Library Name     : STD\n",
            "  Total cells    : 14\n",
            "  - combinational: 0\n",
            "  - others: 14\n",
            "\n",
            "Library Name     : STD_COMMON\n",
            "  Total cells    : 57\n",
            "  - combinational: 0\n",
            "  - others: 57\n",
            "\n",
            "Library Name     : STD_FU\n",
            "  Total cells    : 8\n",
            "  - combinational: 0\n",
            "  - others: 8\n",
            "\n",
            "Library Name     : STD_PC\n",
            "  Total cells    : 16\n",
            "  - combinational: 0\n",
            "  - others: 16\n",
            "\n",
            "Library Name     : STD_SOFT_FLOAT\n",
            "  Total cells    : 2\n",
            "  - combinational: 0\n",
            "  - others: 2\n",
            "\n",
            "Library Name     : STD\n",
            "  Total cells    : 72\n",
            "  - combinational: 0\n",
            "  - others: 72\n",
            "\n",
            "Library Name     : STD_FU\n",
            "  Total cells    : 2\n",
            "  - combinational: 0\n",
            "  - others: 2\n",
            "\n",
            "Library Name     : STD_FU\n",
            "  Total cells    : 4\n",
            "  - combinational: 0\n",
            "  - others: 4\n",
            "\n",
            "Library Name     : WBWrapper\n",
            "  Total cells    : 12\n",
            "  - combinational: 0\n",
            "  - others: 12\n",
            "\n",
            "Compilation time: 0.00 seconds;\n",
            "Error in compilation\n",
            "/opt/colab/panda-temp/shell_script_8: line 3: /usr/bin/clang-6.0: No such file or directory\n",
            "error -> Front-end compiler returns an error during compilation 2\n",
            "\tvoid CompilerWrapper::CompileFile(const string&, std::__cxx11::string&, const string&, bool, CompilerWrapper_CompilerMode)\n",
            "\t../../src/wrapper/compiler/compiler_wrapper.cpp:708\n"
          ]
        }
      ]
    },
    {
      "cell_type": "markdown",
      "metadata": {
        "id": "zXTGPFLA1Dmj"
      },
      "source": [
        "Inspect the generated files in the explorer tab on the left:\n",
        "\n",
        "*   icrc1.v\n",
        "*   test_icrc1.xml\n",
        "*   simulate_icrc1.sh\n",
        "*   synthesize_Synthesis_icrc1.sh\n",
        "\n",
        "\n",
        "\n",
        "Visualize the FSM:"
      ]
    },
    {
      "cell_type": "code",
      "metadata": {
        "id": "IYUayuTqzb2I"
      },
      "source": [
        "from graphviz import Source\n",
        "Source.from_file('HLS_output/dot/icrc1/HLS_STGraph.dot')"
      ],
      "execution_count": null,
      "outputs": []
    },
    {
      "cell_type": "markdown",
      "metadata": {
        "id": "1vnkBTJD-lzY"
      },
      "source": [
        "Navigate through the explorer to see the code for other exercises, **edit** this box to execute them:"
      ]
    },
    {
      "cell_type": "code",
      "metadata": {
        "id": "IoMlPfH7-wMD"
      },
      "source": [
        "%cd /content/bambu-tutorial/01-introduction/Exercise2\n",
        "!./bambu.sh"
      ],
      "execution_count": null,
      "outputs": []
    },
    {
      "cell_type": "markdown",
      "metadata": {
        "id": "BZdmA4VKfyzL"
      },
      "source": [
        "# **Target selection and tool integration**\n",
        "\n",
        "**Exercise 1**: synthesize a module that returns the minimum and maximum value in an array.\n",
        "\n",
        "Start by modifying the code below:"
      ]
    },
    {
      "cell_type": "code",
      "metadata": {
        "id": "paTFkaqqiQBk"
      },
      "source": [
        "%cd /content/bambu-tutorial/02-target_customization/Exercise1/"
      ],
      "execution_count": null,
      "outputs": []
    },
    {
      "cell_type": "code",
      "metadata": {
        "id": "Qk6YNsG6hFS8"
      },
      "source": [
        "%%writefile minmax.c\n",
        "void max(int input[10], int * max)\n",
        "{\n",
        "   int local_max = input[0];\n",
        "   int i = 0;\n",
        "   for(i = 0; i < 10; i++)\n",
        "   {\n",
        "      if(input[i] > local_max)\n",
        "      {\n",
        "         local_max = input[i];\n",
        "      }\n",
        "   }\n",
        "   *max = local_max;\n",
        "}"
      ],
      "execution_count": null,
      "outputs": []
    },
    {
      "cell_type": "markdown",
      "metadata": {
        "id": "l2LzyiJbhMIs"
      },
      "source": [
        "Synthesize with bambu:"
      ]
    },
    {
      "cell_type": "code",
      "metadata": {
        "id": "ghLrn4d0hOH_"
      },
      "source": [
        "!bambu minmax.c"
      ],
      "execution_count": null,
      "outputs": []
    },
    {
      "cell_type": "markdown",
      "metadata": {
        "id": "mJgyQoCPBfAz"
      },
      "source": [
        "**Exercise 2**: write a testbench to test arrays with different elemets and different sizes.\n",
        "\n",
        "Start by modifying the code below **(change parameter names so that they correspond to function arguments in your code)**:"
      ]
    },
    {
      "cell_type": "code",
      "metadata": {
        "id": "5oOodjt2Bz9P"
      },
      "source": [
        "%%writefile test.xml\n",
        "<?xml version=\"1.0\"?>\n",
        "<function>\n",
        "   <testbench input=\"{0,1,2,3,4}\" num_elements=\"5\"/>\n",
        "</function>"
      ],
      "execution_count": null,
      "outputs": []
    },
    {
      "cell_type": "code",
      "metadata": {
        "id": "_n8JLBQYCzIA"
      },
      "source": [
        "!bambu minmax.c --generate-tb=test.xml --simulate"
      ],
      "execution_count": null,
      "outputs": []
    },
    {
      "cell_type": "markdown",
      "metadata": {
        "id": "cbLOvR1FEFoP"
      },
      "source": [
        "**Exercise 3**: compare simulations across different target platforms and frequencies.\n",
        "\n",
        "Start from the given command and modify the options appropriately to test the following combinations:\n",
        "\n",
        "\n",
        "*   xc4vlx100-10ff1513 – 66MHz\n",
        "*   5SGXEA7N2F45C1 – 200MHz\n",
        "*   xc7vx690t-3ffg1930-VVD – 100MHz\n",
        "*   xc7vx690t-3ffg1930-VVD – 333MHz\n",
        "*   xc7vx690t-3ffg1930-VVD – 400MHz\n",
        "\n"
      ]
    },
    {
      "cell_type": "code",
      "metadata": {
        "id": "FryYdWLmEh81"
      },
      "source": [
        "!bambu minmax.c --device-name=xc4vlx100-10ff1513 --clock-period=15 --simulate"
      ],
      "execution_count": null,
      "outputs": []
    },
    {
      "cell_type": "markdown",
      "metadata": {
        "id": "IlQDB6nqHqz0"
      },
      "source": [
        "# **Optimizations**\n",
        "\n",
        "## **Exercise 1**: \n",
        "\n",
        "Modify Bambu options to evaluate the effect of:\n",
        "\n",
        "\n",
        "*   different levels of optimization (-O0, -O1, -O2, -O3, -Os)\n",
        "*   vectorization (-ftree-vectorize)\n",
        "*   inlining (-finline-limit=100000)\n",
        "*   different frontend compilers (--compiler={I386_GCC49|I386_GCC7|I386_CLANG6|I386_CLANG11})\n"
      ]
    },
    {
      "cell_type": "code",
      "metadata": {
        "id": "YOXiFqzSIDR9"
      },
      "source": [
        "%cd /content/bambu-tutorial/03-optimizations/Exercise1/\n",
        "!bambu adpcm.c -O0 --simulate"
      ],
      "execution_count": null,
      "outputs": []
    },
    {
      "cell_type": "markdown",
      "metadata": {
        "id": "mJOV50V4IiE2"
      },
      "source": [
        "## **Exercise 2**: \n",
        "\n",
        "Use the command that yielded the best result in Exercise 1 and verify if SDC scheduling can introduce further improvements.\n",
        "\n",
        "* -s or --speculative-sdc-scheduling"
      ]
    },
    {
      "cell_type": "code",
      "metadata": {
        "id": "Qi_ZpIr1IzZ7"
      },
      "source": [
        "%cd /content/bambu-tutorial/03-optimizations/Exercise1/\n",
        "!bambu adpcm.c -O0 --simulate"
      ],
      "execution_count": null,
      "outputs": []
    },
    {
      "source": [
        "## **Exercise 3**:\n",
        "\n",
        "Modify Bambu options to evaluate the effect of different integer division implementations.\n",
        "\n",
        "--hls-div=<method\\>\n",
        "* none  - use a HDL based pipelined restoring division\n",
        "* nr1   - use a C-based non-restoring division with unrolling factor equal to 1 (default)\n",
        "* nr2   - use a C-based non-restoring division with unrolling factor equal to 2\n",
        "* NR    - use a C-based Newton-Raphson division\n",
        "* as    - use a C-based align divisor shift dividend method\n"
      ],
      "cell_type": "markdown",
      "metadata": {
        "id": "StGBkKaJJEfr"
      }
    },
    {
      "cell_type": "code",
      "metadata": {
        "id": "bnEJ4nwuJLfo"
      },
      "source": [
        "%cd /content/bambu-tutorial/03-optimizations/Exercise3/\n",
        "!bambu dfdiv.c --simulate --clock-period=15 --hls-div=none"
      ],
      "execution_count": null,
      "outputs": []
    },
    {
      "cell_type": "markdown",
      "metadata": {
        "id": "YSRwNv1o2Jqx"
      },
      "source": [
        "## **Exercise 4**: \n",
        "\n",
        "Write C function that compute the following formula with single precision and double precision data types, experimenting with softfloat and libm implementations.\n",
        "\n",
        "![formula.png](data:image/png;base64,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)"
      ]
    },
    {
      "cell_type": "markdown",
      "metadata": {
        "id": "mGggAqUu6SJv"
      },
      "source": [
        "Start by editing this code and then try different bambu options:"
      ]
    },
    {
      "cell_type": "code",
      "metadata": {
        "id": "LuhiArbj6XnA"
      },
      "source": [
        "%%writefile /content/bambu-tutorial/03-optimizations/Exercise4/module.c\n",
        "#include <math.h>\n",
        "float awesome_math(float a, float b, float c)\n",
        "{\n",
        "   return acosf((powf(a,2) + powf(b,2) - powf(c,2))/(2*a*b));\n",
        "}"
      ],
      "execution_count": null,
      "outputs": []
    },
    {
      "cell_type": "code",
      "metadata": {
        "id": "_Rg4Gthy2vDm"
      },
      "source": [
        "%cd /content/bambu-tutorial/03-optimizations/Exercise4/\n",
        "!bambu module.c -O3 -lm --simulate --top-fname=awesome_math --generate-tb=\"a=3.0,b=4.0,c=5.0\" --speculative-sdc-scheduling --libm-std-rounding --hls-fpdiv=G --soft-float"
      ],
      "execution_count": null,
      "outputs": []
    }
  ]
}