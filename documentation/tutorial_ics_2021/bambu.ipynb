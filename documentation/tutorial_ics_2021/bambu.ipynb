{
  "nbformat": 4,
  "nbformat_minor": 0,
  "metadata": {
    "colab": {
      "name": "bambu.ipynb",
      "provenance": [],
      "collapsed_sections": []
    },
    "kernelspec": {
      "name": "python3",
      "display_name": "Python 3"
    },
    "language_info": {
      "name": "python"
    }
  },
  "cells": [
    {
      "cell_type": "markdown",
      "metadata": {
        "id": "c97blcSRzP24"
      },
      "source": [
        "# **Initial setup**\n",
        "\n",
        "Install Bambu and required packages:"
      ]
    },
    {
      "cell_type": "code",
      "metadata": {
        "id": "LCIFdCihzM6S"
      },
      "source": [
        "% pip install gdown\n",
        "!gdown --id 1TRRbCaOeKFK83DtxQfOuGNA_ZP0RLYSG\n",
        "!tar xvf dist.tar.xz -C /\n",
        "!apt install verilator\n",
        "!apt install iverilog\n",
        "!apt install clang-6.0\n",
        "!apt install libclang-6.0-dev\n",
        "!apt install gcc-7-multilib\n",
        "!apt install libbdd-dev\n",
        "!apt install autoconf\n",
        "!apt install autoconf-archive\n",
        "!apt install automake\n",
        "!apt install libtool"
      ],
      "execution_count": null,
      "outputs": []
    },
    {
      "cell_type": "markdown",
      "metadata": {
        "id": "FfqJ_WhOiB-A"
      },
      "source": [
        "Edit PATH variable:"
      ]
    },
    {
      "cell_type": "code",
      "metadata": {
        "id": "qFPREPl2IFbo"
      },
      "source": [
        "%env PATH=/opt/panda/bin:/usr/local/nvidia/bin:/usr/local/cuda/bin:/usr/local/sbin:/usr/local/bin:/usr/sbin:/usr/bin:/sbin:/bin:/tools/node/bin:/tools/google-cloud-sdk/bin:/opt/bin"
      ],
      "execution_count": null,
      "outputs": []
    },
    {
      "cell_type": "markdown",
      "metadata": {
        "id": "St4YkjZRjLWN"
      },
      "source": [
        "Clone exercises repository:"
      ]
    },
    {
      "cell_type": "code",
      "metadata": {
        "id": "rGIIMMugjEim"
      },
      "source": [
        "!git clone https://github.com/SerenaC94/bambu-tutorial.git\n",
        "%cd bambu-tutorial\n",
        "%ls"
      ],
      "execution_count": null,
      "outputs": []
    },
    {
      "cell_type": "markdown",
      "metadata": {
        "id": "la-zNHdckW4f"
      },
      "source": [
        "# **Introduction**\n",
        "\n",
        "Have a look at the C code for Exercise 1: /content/bambu-tutorial/01-introduction/Exercise1/module.c\n",
        "\n",
        "Launch bambu:"
      ]
    },
    {
      "cell_type": "code",
      "metadata": {
        "id": "pjUguz8lZr_2"
      },
      "source": [
        "% cd /content/bambu-tutorial/01-introduction/Exercise1\n",
        "!bambu module.c --top-fname=icrc1 --simulator=VERILATOR --simulate --generate-tb=test_icrc1.xml -v2 --print-dot --pretty-print=a.c 2>&1 | tee icrc1.log"
      ],
      "execution_count": null,
      "outputs": []
    },
    {
      "cell_type": "markdown",
      "metadata": {
        "id": "zXTGPFLA1Dmj"
      },
      "source": [
        "Inspect the generated files in the explorer tab on the left:\n",
        "\n",
        "*   icrc1.v\n",
        "*   test_icrc1.xml\n",
        "*   simulate_icrc1.sh\n",
        "*   synthesize_Synthesis_icrc1.sh\n",
        "\n",
        "\n",
        "\n",
        "Visualize the FSM:"
      ]
    },
    {
      "cell_type": "code",
      "metadata": {
        "id": "IYUayuTqzb2I"
      },
      "source": [
        "from graphviz import Source\n",
        "Source.from_file('HLS_output/dot/icrc1/HLS_STGraph.dot')"
      ],
      "execution_count": null,
      "outputs": []
    },
    {
      "cell_type": "markdown",
      "metadata": {
        "id": "1vnkBTJD-lzY"
      },
      "source": [
        "Navigate through the explorer to see the code for other exercises, **edit** this box to execute them:"
      ]
    },
    {
      "cell_type": "code",
      "metadata": {
        "id": "IoMlPfH7-wMD"
      },
      "source": [
        "% cd ..\n",
        "% cd Exercise2\n",
        "! ./bambu.sh"
      ],
      "execution_count": null,
      "outputs": []
    },
    {
      "cell_type": "markdown",
      "metadata": {
        "id": "BZdmA4VKfyzL"
      },
      "source": [
        "# **Target selection and tool integration**\n",
        "\n",
        "Exercise 1: synthesize a module that returns the minimum and maximum value in an array.\n",
        "\n",
        "Start by modifying the code below:"
      ]
    },
    {
      "cell_type": "code",
      "metadata": {
        "id": "paTFkaqqiQBk"
      },
      "source": [
        "%cd /content/bambu-tutorial/02-target_customization/Exercise1/"
      ],
      "execution_count": null,
      "outputs": []
    },
    {
      "cell_type": "code",
      "metadata": {
        "id": "Qk6YNsG6hFS8"
      },
      "source": [
        "%%writefile array.c\n",
        "void max(int input[10], int * max)\n",
        "{\n",
        "   int local_max = input[0];\n",
        "   int i = 0;\n",
        "   for(i = 0; i < 10; i++)\n",
        "   {\n",
        "      if(input[i] > local_max)\n",
        "      {\n",
        "         local_max = input[i];\n",
        "      }\n",
        "   }\n",
        "   *max = local_max;\n",
        "}"
      ],
      "execution_count": null,
      "outputs": []
    },
    {
      "cell_type": "markdown",
      "metadata": {
        "id": "l2LzyiJbhMIs"
      },
      "source": [
        "Synthesize with bambu:"
      ]
    },
    {
      "cell_type": "code",
      "metadata": {
        "id": "ghLrn4d0hOH_"
      },
      "source": [
        "! bambu array.c"
      ],
      "execution_count": null,
      "outputs": []
    },
    {
      "cell_type": "markdown",
      "metadata": {
        "id": "mJgyQoCPBfAz"
      },
      "source": [
        "Exercise 2: write a testbench to test arrays with different elemets and different sizes.\n",
        "\n",
        "Start by modifying the code below:"
      ]
    },
    {
      "cell_type": "code",
      "metadata": {
        "id": "_0i7aZLxBwwl"
      },
      "source": [
        "%cd ../Exercise2"
      ],
      "execution_count": null,
      "outputs": []
    },
    {
      "cell_type": "code",
      "metadata": {
        "id": "5oOodjt2Bz9P"
      },
      "source": [
        "%%writefile test.xml\n",
        "<?xml version=\"1.0\"?>\n",
        "<function>\n",
        "   <testbench input=\"{0,1,2,3,4}\" num_elements=\"5\"/>\n",
        "</function>"
      ],
      "execution_count": null,
      "outputs": []
    },
    {
      "cell_type": "code",
      "metadata": {
        "id": "_n8JLBQYCzIA"
      },
      "source": [
        "! bambu module.c --generate-tb=test.xml --simulate -v4"
      ],
      "execution_count": null,
      "outputs": []
    },
    {
      "cell_type": "markdown",
      "metadata": {
        "id": "cbLOvR1FEFoP"
      },
      "source": [
        "Exercise 3: compare simulations across different target platforms and frequencies.\n",
        "\n",
        "Start from the given command and modify the options appropriately to test the following combinations:\n",
        "\n",
        "\n",
        "*   xc4vlx100-10ff1513 – 66MHz\n",
        "*   5SGXEA7N2F45C1 – 200MHz\n",
        "*   xc7vx690t-3ffg1930-VVD – 100MHz\n",
        "*   xc7vx690t-3ffg1930-VVD – 333MHz\n",
        "*   xc7vx690t-3ffg1930-VVD – 400MHz\n",
        "\n"
      ]
    },
    {
      "cell_type": "code",
      "metadata": {
        "id": "094IYzP9EVsm"
      },
      "source": [
        "%cd ../Exercise3"
      ],
      "execution_count": null,
      "outputs": []
    },
    {
      "cell_type": "code",
      "metadata": {
        "id": "FryYdWLmEh81"
      },
      "source": [
        "! bambu module.c --device-name=xc4vlx100-10ff1513 --clock-period=15 --simulate"
      ],
      "execution_count": null,
      "outputs": []
    }
  ]
}