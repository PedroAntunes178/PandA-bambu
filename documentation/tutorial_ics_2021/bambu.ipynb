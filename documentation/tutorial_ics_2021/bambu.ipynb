{
  "nbformat": 4,
  "nbformat_minor": 0,
  "metadata": {
    "colab": {
      "name": "bambu.ipynb",
      "provenance": [],
      "collapsed_sections": []
    },
    "kernelspec": {
      "name": "python3",
      "display_name": "Python 3",
      "language": "python"
    }
  },
  "cells": [
    {
      "cell_type": "markdown",
      "metadata": {
        "id": "c97blcSRzP24"
      },
      "source": [
        "# **Initial setup**\n",
        "\n",
        "Install Bambu and required packages:"
      ]
    },
    {
      "cell_type": "code",
      "metadata": {
        "id": "ZoxqLkfA9zqM",
        "tags": [
          "outputPrepend"
        ],
        "outputId": "bd1e15a0-4857-4e4a-f6e5-0227fe2cd24c",
        "colab": {
          "base_uri": "https://localhost:8080/"
        }
      },
      "source": [
        "!echo \"deb http://dk.archive.ubuntu.com/ubuntu/ xenial main universe\" >> /etc/apt/sources.list\n",
        "!echo \"deb http://apt.llvm.org/bionic/ llvm-toolchain-bionic-11 main\" >> /etc/apt/sources.list\n",
        "!apt-get -o Acquire::AllowInsecureRepositories=true update\n",
        "!apt-get -o Acquire::AllowInsecureRepositories=true --allow-unauthenticated install -y --no-install-recommends ca-certificates git libbdd-dev iverilog verilator gcc-4.9 gcc-4.9-plugin-dev gcc-4.9-multilib g++-4.9 g++-multilib gcc-multilib gcc-7-plugin-dev g++-multilib clang-6.0 libclang-6.0-dev clang-11 libclang-11-dev\n",
        "!git clone https://github.com/SerenaC94/bambu-tutorial.git\n",
        "!tar xf bambu-tutorial/panda-dist.tar.gz -C /\n",
        "%env PATH=/opt/panda/bin:/usr/local/nvidia/bin:/usr/local/cuda/bin:/usr/local/sbin:/usr/local/bin:/usr/sbin:/usr/bin:/sbin:/bin:/tools/node/bin:/tools/google-cloud-sdk/bin:/opt/bin"
      ],
      "execution_count": 1,
      "outputs": [
        {
          "output_type": "stream",
          "text": [
            "Get:1 https://apt.llvm.org/bionic llvm-toolchain-bionic-11 InRelease [5,527 B]\n",
            "Get:2 https://cloud.r-project.org/bin/linux/ubuntu bionic-cran40/ InRelease [3,626 B]\n",
            "Ign:3 https://developer.download.nvidia.com/compute/cuda/repos/ubuntu1804/x86_64  InRelease\n",
            "Get:4 http://security.ubuntu.com/ubuntu bionic-security InRelease [88.7 kB]\n",
            "Ign:5 https://developer.download.nvidia.com/compute/machine-learning/repos/ubuntu1804/x86_64  InRelease\n",
            "Get:6 https://developer.download.nvidia.com/compute/cuda/repos/ubuntu1804/x86_64  Release [697 B]\n",
            "Hit:7 https://developer.download.nvidia.com/compute/machine-learning/repos/ubuntu1804/x86_64  Release\n",
            "Get:8 https://developer.download.nvidia.com/compute/cuda/repos/ubuntu1804/x86_64  Release.gpg [836 B]\n",
            "Get:9 http://ppa.launchpad.net/c2d4u.team/c2d4u4.0+/ubuntu bionic InRelease [15.9 kB]\n",
            "Ign:1 https://apt.llvm.org/bionic llvm-toolchain-bionic-11 InRelease\n",
            "Get:10 https://apt.llvm.org/bionic llvm-toolchain-bionic-11/main amd64 Packages [8,790 B]\n",
            "Hit:11 http://archive.ubuntu.com/ubuntu bionic InRelease\n",
            "Get:12 http://archive.ubuntu.com/ubuntu bionic-updates InRelease [88.7 kB]\n",
            "Get:13 https://cloud.r-project.org/bin/linux/ubuntu bionic-cran40/ Packages [61.8 kB]\n",
            "Hit:14 http://ppa.launchpad.net/cran/libgit2/ubuntu bionic InRelease\n",
            "Get:15 http://dk.archive.ubuntu.com/ubuntu xenial InRelease [247 kB]\n",
            "Get:17 http://ppa.launchpad.net/deadsnakes/ppa/ubuntu bionic InRelease [15.9 kB]\n",
            "Get:18 http://archive.ubuntu.com/ubuntu bionic-backports InRelease [74.6 kB]\n",
            "Ign:19 https://developer.download.nvidia.com/compute/cuda/repos/ubuntu1804/x86_64  Packages\n",
            "Get:19 https://developer.download.nvidia.com/compute/cuda/repos/ubuntu1804/x86_64  Packages [800 kB]\n",
            "Get:20 http://ppa.launchpad.net/graphics-drivers/ppa/ubuntu bionic InRelease [21.3 kB]\n",
            "Get:21 http://security.ubuntu.com/ubuntu bionic-security/universe amd64 Packages [1,415 kB]\n",
            "Get:22 http://security.ubuntu.com/ubuntu bionic-security/main amd64 Packages [2,185 kB]\n",
            "Get:23 http://security.ubuntu.com/ubuntu bionic-security/restricted amd64 Packages [450 kB]\n",
            "Get:24 http://ppa.launchpad.net/c2d4u.team/c2d4u4.0+/ubuntu bionic/main Sources [1,772 kB]\n",
            "Get:25 http://archive.ubuntu.com/ubuntu bionic-updates/multiverse amd64 Packages [33.5 kB]\n",
            "Get:26 http://archive.ubuntu.com/ubuntu bionic-updates/main amd64 Packages [2,619 kB]\n",
            "Get:27 http://dk.archive.ubuntu.com/ubuntu xenial/universe amd64 Packages [9,827 kB]\n",
            "Get:28 http://archive.ubuntu.com/ubuntu bionic-updates/universe amd64 Packages [2,184 kB]\n",
            "Get:29 http://ppa.launchpad.net/c2d4u.team/c2d4u4.0+/ubuntu bionic/main amd64 Packages [906 kB]\n",
            "Get:30 http://archive.ubuntu.com/ubuntu bionic-updates/restricted amd64 Packages [481 kB]\n",
            "Get:31 http://dk.archive.ubuntu.com/ubuntu xenial/main amd64 Packages [1,558 kB]\n",
            "Get:32 http://ppa.launchpad.net/deadsnakes/ppa/ubuntu bionic/main amd64 Packages [40.9 kB]\n",
            "Get:33 http://ppa.launchpad.net/graphics-drivers/ppa/ubuntu bionic/main amd64 Packages [41.6 kB]\n",
            "Fetched 24.9 MB in 5s (4,630 kB/s)\n",
            "Reading package lists... Done\n",
            "W: GPG error: https://apt.llvm.org/bionic llvm-toolchain-bionic-11 InRelease: The following signatures couldn't be verified because the public key is not available: NO_PUBKEY 15CF4D18AF4F7421\n",
            "W: The repository 'http://apt.llvm.org/bionic llvm-toolchain-bionic-11 InRelease' is not signed.\n",
            "N: Data from such a repository can't be authenticated and is therefore potentially dangerous to use.\n",
            "N: See apt-secure(8) manpage for repository creation and user configuration details.\n",
            "Reading package lists... Done\n",
            "Building dependency tree       \n",
            "Reading state information... Done\n",
            "clang-6.0 is already the newest version (1:6.0-1ubuntu2).\n",
            "clang-6.0 set to manually installed.\n",
            "ca-certificates is already the newest version (20210119~18.04.1).\n",
            "git is already the newest version (1:2.17.1-1ubuntu0.8).\n",
            "The following additional packages will be installed:\n",
            "  cpp-4.9 g++-7-multilib gcc-4.9-base gcc-7-multilib lib32asan1 lib32asan4\n",
            "  lib32atomic1 lib32cilkrts5 lib32gcc-4.9-dev lib32gcc-7-dev lib32gomp1\n",
            "  lib32itm1 lib32mpx2 lib32quadmath0 lib32stdc++-7-dev lib32ubsan0 libasan1\n",
            "  libbdd0c2 libc6-dev-i386 libc6-dev-x32 libc6-x32 libclang-common-11-dev\n",
            "  libclang-cpp11 libclang1-11 libgcc-4.9-dev libgmp-dev libgmpxx4ldbl\n",
            "  libllvm11 libmpc-dev libmpfr-dev libmpfr4 libstdc++-4.9-dev libx32asan1\n",
            "  libx32asan4 libx32atomic1 libx32cilkrts5 libx32gcc-4.9-dev libx32gcc-7-dev\n",
            "  libx32gcc1 libx32gomp1 libx32itm1 libx32quadmath0 libx32stdc++-7-dev\n",
            "  libx32stdc++6 libx32ubsan0\n",
            "Suggested packages:\n",
            "  clang-11-doc gcc-4.9-locales g++-4.9-multilib gcc-4.9-doc libstdc++6-4.9-dbg\n",
            "  lib32stdc++6-7-dbg libx32stdc++6-7-dbg libgcc1-dbg libgomp1-dbg libitm1-dbg\n",
            "  libatomic1-dbg libasan1-dbg liblsan0-dbg libtsan0-dbg libubsan0-dbg\n",
            "  libcilkrts5-dbg libquadmath0-dbg gtkwave gmp-doc libgmp10-doc libmpfr-doc\n",
            "  libstdc++-4.9-doc systemc\n",
            "Recommended packages:\n",
            "  llvm-11-dev libomp-11-dev\n",
            "The following NEW packages will be installed:\n",
            "  clang-11 cpp-4.9 g++-4.9 g++-7-multilib g++-multilib gcc-4.9 gcc-4.9-base\n",
            "  gcc-4.9-multilib gcc-4.9-plugin-dev gcc-7-multilib gcc-7-plugin-dev\n",
            "  gcc-multilib iverilog lib32asan1 lib32asan4 lib32atomic1 lib32cilkrts5\n",
            "  lib32gcc-4.9-dev lib32gcc-7-dev lib32gomp1 lib32itm1 lib32mpx2\n",
            "  lib32quadmath0 lib32stdc++-7-dev lib32ubsan0 libasan1 libbdd-dev libbdd0c2\n",
            "  libc6-dev-i386 libc6-dev-x32 libc6-x32 libclang-11-dev libclang-6.0-dev\n",
            "  libclang-common-11-dev libclang-cpp11 libclang1-11 libgcc-4.9-dev libgmp-dev\n",
            "  libgmpxx4ldbl libllvm11 libmpc-dev libmpfr-dev libmpfr4 libstdc++-4.9-dev\n",
            "  libx32asan1 libx32asan4 libx32atomic1 libx32cilkrts5 libx32gcc-4.9-dev\n",
            "  libx32gcc-7-dev libx32gcc1 libx32gomp1 libx32itm1 libx32quadmath0\n",
            "  libx32stdc++-7-dev libx32stdc++6 libx32ubsan0 verilator\n",
            "0 upgraded, 58 newly installed, 0 to remove and 48 not upgraded.\n",
            "Need to get 137 MB of archives.\n",
            "After this operation, 904 MB of additional disk space will be used.\n",
            "WARNING: The following packages cannot be authenticated!\n",
            "  libllvm11 libclang-cpp11 libclang-common-11-dev libclang1-11 clang-11\n",
            "  libclang-11-dev\n",
            "Authentication warning overridden.\n",
            "Get:1 https://apt.llvm.org/bionic llvm-toolchain-bionic-11/main amd64 libllvm11 amd64 1:11.1.0~++20210428103915+1fdec59bffc1-1~exp1~20210428204556.164 [17.7 MB]\n",
            "Get:7 http://archive.ubuntu.com/ubuntu bionic-updates/main amd64 libc6-dev-i386 amd64 2.27-3ubuntu1.4 [1,818 kB]\n",
            "Get:2 https://apt.llvm.org/bionic llvm-toolchain-bionic-11/main amd64 libclang-cpp11 amd64 1:11.1.0~++20210428103915+1fdec59bffc1-1~exp1~20210428204556.164 [9,554 kB]\n",
            "Get:3 https://apt.llvm.org/bionic llvm-toolchain-bionic-11/main amd64 libclang-common-11-dev amd64 1:11.1.0~++20210428103915+1fdec59bffc1-1~exp1~20210428204556.164 [4,911 kB]\n",
            "Get:8 http://dk.archive.ubuntu.com/ubuntu xenial/universe amd64 gcc-4.9-base amd64 4.9.3-13ubuntu2 [15.3 kB]\n",
            "Get:4 https://apt.llvm.org/bionic llvm-toolchain-bionic-11/main amd64 libclang1-11 amd64 1:11.1.0~++20210428103915+1fdec59bffc1-1~exp1~20210428204556.164 [5,501 kB]\n",
            "Get:5 https://apt.llvm.org/bionic llvm-toolchain-bionic-11/main amd64 clang-11 amd64 1:11.1.0~++20210428103915+1fdec59bffc1-1~exp1~20210428204556.164 [108 kB]\n",
            "Get:6 https://apt.llvm.org/bionic llvm-toolchain-bionic-11/main amd64 libclang-11-dev amd64 1:11.1.0~++20210428103915+1fdec59bffc1-1~exp1~20210428204556.164 [18.1 MB]\n",
            "Get:9 http://dk.archive.ubuntu.com/ubuntu xenial/main amd64 libmpfr4 amd64 3.1.4-1 [191 kB]\n",
            "Get:10 http://archive.ubuntu.com/ubuntu bionic-updates/main amd64 libc6-x32 amd64 2.27-3ubuntu1.4 [2,845 kB]\n",
            "Get:11 http://archive.ubuntu.com/ubuntu bionic-updates/main amd64 libc6-dev-x32 amd64 2.27-3ubuntu1.4 [2,017 kB]\n",
            "Get:12 http://dk.archive.ubuntu.com/ubuntu xenial/universe amd64 cpp-4.9 amd64 4.9.3-13ubuntu2 [4,972 kB]\n",
            "Get:13 http://archive.ubuntu.com/ubuntu bionic-updates/main amd64 libx32gcc1 amd64 1:8.4.0-1ubuntu1~18.04 [40.5 kB]\n",
            "Get:14 http://archive.ubuntu.com/ubuntu bionic-updates/main amd64 lib32gomp1 amd64 8.4.0-1ubuntu1~18.04 [83.7 kB]\n",
            "Get:15 http://archive.ubuntu.com/ubuntu bionic-updates/main amd64 libx32gomp1 amd64 8.4.0-1ubuntu1~18.04 [77.8 kB]\n",
            "Get:16 http://archive.ubuntu.com/ubuntu bionic-updates/main amd64 lib32itm1 amd64 8.4.0-1ubuntu1~18.04 [30.0 kB]\n",
            "Get:17 http://archive.ubuntu.com/ubuntu bionic-updates/main amd64 libx32itm1 amd64 8.4.0-1ubuntu1~18.04 [28.1 kB]\n",
            "Get:18 http://archive.ubuntu.com/ubuntu bionic-updates/main amd64 lib32atomic1 amd64 8.4.0-1ubuntu1~18.04 [8,664 B]\n",
            "Get:19 http://archive.ubuntu.com/ubuntu bionic-updates/main amd64 libx32atomic1 amd64 8.4.0-1ubuntu1~18.04 [9,188 B]\n",
            "Get:20 http://archive.ubuntu.com/ubuntu bionic-updates/main amd64 lib32asan4 amd64 7.5.0-3ubuntu1~18.04 [362 kB]\n",
            "Get:21 http://archive.ubuntu.com/ubuntu bionic-updates/main amd64 libx32asan4 amd64 7.5.0-3ubuntu1~18.04 [351 kB]\n",
            "Get:22 http://archive.ubuntu.com/ubuntu bionic-updates/main amd64 lib32ubsan0 amd64 7.5.0-3ubuntu1~18.04 [140 kB]\n",
            "Get:23 http://archive.ubuntu.com/ubuntu bionic-updates/main amd64 libx32stdc++6 amd64 8.4.0-1ubuntu1~18.04 [387 kB]\n",
            "Get:24 http://archive.ubuntu.com/ubuntu bionic-updates/main amd64 libx32ubsan0 amd64 7.5.0-3ubuntu1~18.04 [127 kB]\n",
            "Get:25 http://archive.ubuntu.com/ubuntu bionic-updates/main amd64 lib32cilkrts5 amd64 7.5.0-3ubuntu1~18.04 [47.2 kB]\n",
            "Get:26 http://archive.ubuntu.com/ubuntu bionic-updates/main amd64 libx32cilkrts5 amd64 7.5.0-3ubuntu1~18.04 [43.0 kB]\n",
            "Get:27 http://archive.ubuntu.com/ubuntu bionic-updates/main amd64 lib32mpx2 amd64 8.4.0-1ubuntu1~18.04 [12.9 kB]\n",
            "Get:28 http://archive.ubuntu.com/ubuntu bionic-updates/main amd64 lib32quadmath0 amd64 8.4.0-1ubuntu1~18.04 [208 kB]\n",
            "Get:29 http://archive.ubuntu.com/ubuntu bionic-updates/main amd64 libx32quadmath0 amd64 8.4.0-1ubuntu1~18.04 [135 kB]\n",
            "Get:30 http://archive.ubuntu.com/ubuntu bionic-updates/main amd64 lib32gcc-7-dev amd64 7.5.0-3ubuntu1~18.04 [2,211 kB]\n",
            "Get:31 http://archive.ubuntu.com/ubuntu bionic-updates/main amd64 libx32gcc-7-dev amd64 7.5.0-3ubuntu1~18.04 [1,999 kB]\n",
            "Get:32 http://archive.ubuntu.com/ubuntu bionic-updates/main amd64 gcc-7-multilib amd64 7.5.0-3ubuntu1~18.04 [1,048 B]\n",
            "Get:33 http://archive.ubuntu.com/ubuntu bionic-updates/main amd64 lib32stdc++-7-dev amd64 7.5.0-3ubuntu1~18.04 [626 kB]\n",
            "Get:34 http://archive.ubuntu.com/ubuntu bionic-updates/main amd64 libx32stdc++-7-dev amd64 7.5.0-3ubuntu1~18.04 [582 kB]\n",
            "Get:35 http://archive.ubuntu.com/ubuntu bionic-updates/main amd64 g++-7-multilib amd64 7.5.0-3ubuntu1~18.04 [1,064 B]\n",
            "Get:36 http://archive.ubuntu.com/ubuntu bionic-updates/main amd64 gcc-multilib amd64 4:7.4.0-1ubuntu2.3 [1,428 B]\n",
            "Get:37 http://archive.ubuntu.com/ubuntu bionic-updates/main amd64 g++-multilib amd64 4:7.4.0-1ubuntu2.3 [1,020 B]\n",
            "Get:38 http://archive.ubuntu.com/ubuntu bionic/main amd64 libgmpxx4ldbl amd64 2:6.1.2+dfsg-2 [8,964 B]\n",
            "Get:39 http://archive.ubuntu.com/ubuntu bionic/main amd64 libgmp-dev amd64 2:6.1.2+dfsg-2 [316 kB]\n",
            "Get:40 http://archive.ubuntu.com/ubuntu bionic/main amd64 libmpfr-dev amd64 4.0.1-1 [249 kB]\n",
            "Get:41 http://archive.ubuntu.com/ubuntu bionic/main amd64 libmpc-dev amd64 1.1.0-1 [50.5 kB]\n",
            "Get:42 http://archive.ubuntu.com/ubuntu bionic-updates/main amd64 gcc-7-plugin-dev amd64 7.5.0-3ubuntu1~18.04 [1,162 kB]\n",
            "Get:43 http://dk.archive.ubuntu.com/ubuntu xenial/universe amd64 libasan1 amd64 4.9.3-13ubuntu2 [197 kB]\n",
            "Get:44 http://dk.archive.ubuntu.com/ubuntu xenial/universe amd64 libgcc-4.9-dev amd64 4.9.3-13ubuntu2 [2,073 kB]\n",
            "Get:45 http://archive.ubuntu.com/ubuntu bionic/universe amd64 iverilog amd64 10.1-0.1build1 [1,811 kB]\n",
            "Get:46 http://archive.ubuntu.com/ubuntu bionic/universe amd64 libbdd0c2 amd64 2.4-11 [51.5 kB]\n",
            "Get:47 http://archive.ubuntu.com/ubuntu bionic/universe amd64 libbdd-dev amd64 2.4-11 [454 kB]\n",
            "Get:48 http://archive.ubuntu.com/ubuntu bionic/universe amd64 libclang-6.0-dev amd64 1:6.0-1ubuntu2 [20.4 MB]\n",
            "Get:49 http://dk.archive.ubuntu.com/ubuntu xenial/universe amd64 gcc-4.9 amd64 4.9.3-13ubuntu2 [5,442 kB]\n",
            "Get:50 http://dk.archive.ubuntu.com/ubuntu xenial/universe amd64 libstdc++-4.9-dev amd64 4.9.3-13ubuntu2 [1,126 kB]\n",
            "Get:51 http://dk.archive.ubuntu.com/ubuntu xenial/universe amd64 g++-4.9 amd64 4.9.3-13ubuntu2 [21.0 MB]\n",
            "Get:52 http://archive.ubuntu.com/ubuntu bionic/universe amd64 verilator amd64 3.916-1build1 [2,878 kB]\n",
            "Get:53 http://dk.archive.ubuntu.com/ubuntu xenial/universe amd64 lib32asan1 amd64 4.9.3-13ubuntu2 [190 kB]\n",
            "Get:54 http://dk.archive.ubuntu.com/ubuntu xenial/universe amd64 libx32asan1 amd64 4.9.3-13ubuntu2 [190 kB]\n",
            "Get:55 http://dk.archive.ubuntu.com/ubuntu xenial/universe amd64 lib32gcc-4.9-dev amd64 4.9.3-13ubuntu2 [1,920 kB]\n",
            "Get:56 http://dk.archive.ubuntu.com/ubuntu xenial/universe amd64 libx32gcc-4.9-dev amd64 4.9.3-13ubuntu2 [1,782 kB]\n",
            "Get:57 http://dk.archive.ubuntu.com/ubuntu xenial/universe amd64 gcc-4.9-multilib amd64 4.9.3-13ubuntu2 [964 B]\n",
            "Get:58 http://dk.archive.ubuntu.com/ubuntu xenial/universe amd64 gcc-4.9-plugin-dev amd64 4.9.3-13ubuntu2 [806 kB]\n",
            "Fetched 137 MB in 4s (31.5 MB/s)\n",
            "Extracting templates from packages: 100%\n",
            "Selecting previously unselected package libllvm11:amd64.\n",
            "(Reading database ... 160772 files and directories currently installed.)\n",
            "Preparing to unpack .../00-libllvm11_1%3a11.1.0~++20210428103915+1fdec59bffc1-1~exp1~20210428204556.164_amd64.deb ...\n",
            "Unpacking libllvm11:amd64 (1:11.1.0~++20210428103915+1fdec59bffc1-1~exp1~20210428204556.164) ...\n",
            "Selecting previously unselected package libclang-cpp11.\n",
            "Preparing to unpack .../01-libclang-cpp11_1%3a11.1.0~++20210428103915+1fdec59bffc1-1~exp1~20210428204556.164_amd64.deb ...\n",
            "Unpacking libclang-cpp11 (1:11.1.0~++20210428103915+1fdec59bffc1-1~exp1~20210428204556.164) ...\n",
            "Selecting previously unselected package libclang-common-11-dev.\n",
            "Preparing to unpack .../02-libclang-common-11-dev_1%3a11.1.0~++20210428103915+1fdec59bffc1-1~exp1~20210428204556.164_amd64.deb ...\n",
            "Unpacking libclang-common-11-dev (1:11.1.0~++20210428103915+1fdec59bffc1-1~exp1~20210428204556.164) ...\n",
            "Selecting previously unselected package libclang1-11.\n",
            "Preparing to unpack .../03-libclang1-11_1%3a11.1.0~++20210428103915+1fdec59bffc1-1~exp1~20210428204556.164_amd64.deb ...\n",
            "Unpacking libclang1-11 (1:11.1.0~++20210428103915+1fdec59bffc1-1~exp1~20210428204556.164) ...\n",
            "Selecting previously unselected package clang-11.\n",
            "Preparing to unpack .../04-clang-11_1%3a11.1.0~++20210428103915+1fdec59bffc1-1~exp1~20210428204556.164_amd64.deb ...\n",
            "Unpacking clang-11 (1:11.1.0~++20210428103915+1fdec59bffc1-1~exp1~20210428204556.164) ...\n",
            "Selecting previously unselected package gcc-4.9-base:amd64.\n",
            "Preparing to unpack .../05-gcc-4.9-base_4.9.3-13ubuntu2_amd64.deb ...\n",
            "Unpacking gcc-4.9-base:amd64 (4.9.3-13ubuntu2) ...\n",
            "Selecting previously unselected package libmpfr4:amd64.\n",
            "Preparing to unpack .../06-libmpfr4_3.1.4-1_amd64.deb ...\n",
            "Unpacking libmpfr4:amd64 (3.1.4-1) ...\n",
            "Selecting previously unselected package cpp-4.9.\n",
            "Preparing to unpack .../07-cpp-4.9_4.9.3-13ubuntu2_amd64.deb ...\n",
            "Unpacking cpp-4.9 (4.9.3-13ubuntu2) ...\n",
            "Selecting previously unselected package libasan1:amd64.\n",
            "Preparing to unpack .../08-libasan1_4.9.3-13ubuntu2_amd64.deb ...\n",
            "Unpacking libasan1:amd64 (4.9.3-13ubuntu2) ...\n",
            "Selecting previously unselected package libgcc-4.9-dev:amd64.\n",
            "Preparing to unpack .../09-libgcc-4.9-dev_4.9.3-13ubuntu2_amd64.deb ...\n",
            "Unpacking libgcc-4.9-dev:amd64 (4.9.3-13ubuntu2) ...\n",
            "Selecting previously unselected package gcc-4.9.\n",
            "Preparing to unpack .../10-gcc-4.9_4.9.3-13ubuntu2_amd64.deb ...\n",
            "Unpacking gcc-4.9 (4.9.3-13ubuntu2) ...\n",
            "Selecting previously unselected package libstdc++-4.9-dev:amd64.\n",
            "Preparing to unpack .../11-libstdc++-4.9-dev_4.9.3-13ubuntu2_amd64.deb ...\n",
            "Unpacking libstdc++-4.9-dev:amd64 (4.9.3-13ubuntu2) ...\n",
            "Selecting previously unselected package g++-4.9.\n",
            "Preparing to unpack .../12-g++-4.9_4.9.3-13ubuntu2_amd64.deb ...\n",
            "Unpacking g++-4.9 (4.9.3-13ubuntu2) ...\n",
            "Selecting previously unselected package libc6-dev-i386.\n",
            "Preparing to unpack .../13-libc6-dev-i386_2.27-3ubuntu1.4_amd64.deb ...\n",
            "Unpacking libc6-dev-i386 (2.27-3ubuntu1.4) ...\n",
            "Selecting previously unselected package libc6-x32.\n",
            "Preparing to unpack .../14-libc6-x32_2.27-3ubuntu1.4_amd64.deb ...\n",
            "Unpacking libc6-x32 (2.27-3ubuntu1.4) ...\n",
            "Selecting previously unselected package libc6-dev-x32.\n",
            "Preparing to unpack .../15-libc6-dev-x32_2.27-3ubuntu1.4_amd64.deb ...\n",
            "Unpacking libc6-dev-x32 (2.27-3ubuntu1.4) ...\n",
            "Selecting previously unselected package libx32gcc1.\n",
            "Preparing to unpack .../16-libx32gcc1_1%3a8.4.0-1ubuntu1~18.04_amd64.deb ...\n",
            "Unpacking libx32gcc1 (1:8.4.0-1ubuntu1~18.04) ...\n",
            "Selecting previously unselected package lib32gomp1.\n",
            "Preparing to unpack .../17-lib32gomp1_8.4.0-1ubuntu1~18.04_amd64.deb ...\n",
            "Unpacking lib32gomp1 (8.4.0-1ubuntu1~18.04) ...\n",
            "Selecting previously unselected package libx32gomp1.\n",
            "Preparing to unpack .../18-libx32gomp1_8.4.0-1ubuntu1~18.04_amd64.deb ...\n",
            "Unpacking libx32gomp1 (8.4.0-1ubuntu1~18.04) ...\n",
            "Selecting previously unselected package lib32itm1.\n",
            "Preparing to unpack .../19-lib32itm1_8.4.0-1ubuntu1~18.04_amd64.deb ...\n",
            "Unpacking lib32itm1 (8.4.0-1ubuntu1~18.04) ...\n",
            "Selecting previously unselected package libx32itm1.\n",
            "Preparing to unpack .../20-libx32itm1_8.4.0-1ubuntu1~18.04_amd64.deb ...\n",
            "Unpacking libx32itm1 (8.4.0-1ubuntu1~18.04) ...\n",
            "Selecting previously unselected package lib32atomic1.\n",
            "Preparing to unpack .../21-lib32atomic1_8.4.0-1ubuntu1~18.04_amd64.deb ...\n",
            "Unpacking lib32atomic1 (8.4.0-1ubuntu1~18.04) ...\n",
            "Selecting previously unselected package libx32atomic1.\n",
            "Preparing to unpack .../22-libx32atomic1_8.4.0-1ubuntu1~18.04_amd64.deb ...\n",
            "Unpacking libx32atomic1 (8.4.0-1ubuntu1~18.04) ...\n",
            "Selecting previously unselected package lib32asan4.\n",
            "Preparing to unpack .../23-lib32asan4_7.5.0-3ubuntu1~18.04_amd64.deb ...\n",
            "Unpacking lib32asan4 (7.5.0-3ubuntu1~18.04) ...\n",
            "Selecting previously unselected package libx32asan4.\n",
            "Preparing to unpack .../24-libx32asan4_7.5.0-3ubuntu1~18.04_amd64.deb ...\n",
            "Unpacking libx32asan4 (7.5.0-3ubuntu1~18.04) ...\n",
            "Selecting previously unselected package lib32ubsan0.\n",
            "Preparing to unpack .../25-lib32ubsan0_7.5.0-3ubuntu1~18.04_amd64.deb ...\n",
            "Unpacking lib32ubsan0 (7.5.0-3ubuntu1~18.04) ...\n",
            "Selecting previously unselected package libx32stdc++6.\n",
            "Preparing to unpack .../26-libx32stdc++6_8.4.0-1ubuntu1~18.04_amd64.deb ...\n",
            "Unpacking libx32stdc++6 (8.4.0-1ubuntu1~18.04) ...\n",
            "Selecting previously unselected package libx32ubsan0.\n",
            "Preparing to unpack .../27-libx32ubsan0_7.5.0-3ubuntu1~18.04_amd64.deb ...\n",
            "Unpacking libx32ubsan0 (7.5.0-3ubuntu1~18.04) ...\n",
            "Selecting previously unselected package lib32cilkrts5.\n",
            "Preparing to unpack .../28-lib32cilkrts5_7.5.0-3ubuntu1~18.04_amd64.deb ...\n",
            "Unpacking lib32cilkrts5 (7.5.0-3ubuntu1~18.04) ...\n",
            "Selecting previously unselected package libx32cilkrts5.\n",
            "Preparing to unpack .../29-libx32cilkrts5_7.5.0-3ubuntu1~18.04_amd64.deb ...\n",
            "Unpacking libx32cilkrts5 (7.5.0-3ubuntu1~18.04) ...\n",
            "Selecting previously unselected package lib32mpx2.\n",
            "Preparing to unpack .../30-lib32mpx2_8.4.0-1ubuntu1~18.04_amd64.deb ...\n",
            "Unpacking lib32mpx2 (8.4.0-1ubuntu1~18.04) ...\n",
            "Selecting previously unselected package lib32quadmath0.\n",
            "Preparing to unpack .../31-lib32quadmath0_8.4.0-1ubuntu1~18.04_amd64.deb ...\n",
            "Unpacking lib32quadmath0 (8.4.0-1ubuntu1~18.04) ...\n",
            "Selecting previously unselected package libx32quadmath0.\n",
            "Preparing to unpack .../32-libx32quadmath0_8.4.0-1ubuntu1~18.04_amd64.deb ...\n",
            "Unpacking libx32quadmath0 (8.4.0-1ubuntu1~18.04) ...\n",
            "Selecting previously unselected package lib32gcc-7-dev.\n",
            "Preparing to unpack .../33-lib32gcc-7-dev_7.5.0-3ubuntu1~18.04_amd64.deb ...\n",
            "Unpacking lib32gcc-7-dev (7.5.0-3ubuntu1~18.04) ...\n",
            "Selecting previously unselected package libx32gcc-7-dev.\n",
            "Preparing to unpack .../34-libx32gcc-7-dev_7.5.0-3ubuntu1~18.04_amd64.deb ...\n",
            "Unpacking libx32gcc-7-dev (7.5.0-3ubuntu1~18.04) ...\n",
            "Selecting previously unselected package gcc-7-multilib.\n",
            "Preparing to unpack .../35-gcc-7-multilib_7.5.0-3ubuntu1~18.04_amd64.deb ...\n",
            "Unpacking gcc-7-multilib (7.5.0-3ubuntu1~18.04) ...\n",
            "Selecting previously unselected package lib32stdc++-7-dev.\n",
            "Preparing to unpack .../36-lib32stdc++-7-dev_7.5.0-3ubuntu1~18.04_amd64.deb ...\n",
            "Unpacking lib32stdc++-7-dev (7.5.0-3ubuntu1~18.04) ...\n",
            "Selecting previously unselected package libx32stdc++-7-dev.\n",
            "Preparing to unpack .../37-libx32stdc++-7-dev_7.5.0-3ubuntu1~18.04_amd64.deb ...\n",
            "Unpacking libx32stdc++-7-dev (7.5.0-3ubuntu1~18.04) ...\n",
            "Selecting previously unselected package g++-7-multilib.\n",
            "Preparing to unpack .../38-g++-7-multilib_7.5.0-3ubuntu1~18.04_amd64.deb ...\n",
            "Unpacking g++-7-multilib (7.5.0-3ubuntu1~18.04) ...\n",
            "Selecting previously unselected package gcc-multilib.\n",
            "Preparing to unpack .../39-gcc-multilib_4%3a7.4.0-1ubuntu2.3_amd64.deb ...\n",
            "Unpacking gcc-multilib (4:7.4.0-1ubuntu2.3) ...\n",
            "Selecting previously unselected package g++-multilib.\n",
            "Preparing to unpack .../40-g++-multilib_4%3a7.4.0-1ubuntu2.3_amd64.deb ...\n",
            "Unpacking g++-multilib (4:7.4.0-1ubuntu2.3) ...\n",
            "Selecting previously unselected package lib32asan1.\n",
            "Preparing to unpack .../41-lib32asan1_4.9.3-13ubuntu2_amd64.deb ...\n",
            "Unpacking lib32asan1 (4.9.3-13ubuntu2) ...\n",
            "Selecting previously unselected package libx32asan1.\n",
            "Preparing to unpack .../42-libx32asan1_4.9.3-13ubuntu2_amd64.deb ...\n",
            "Unpacking libx32asan1 (4.9.3-13ubuntu2) ...\n",
            "Selecting previously unselected package lib32gcc-4.9-dev.\n",
            "Preparing to unpack .../43-lib32gcc-4.9-dev_4.9.3-13ubuntu2_amd64.deb ...\n",
            "Unpacking lib32gcc-4.9-dev (4.9.3-13ubuntu2) ...\n",
            "Selecting previously unselected package libx32gcc-4.9-dev.\n",
            "Preparing to unpack .../44-libx32gcc-4.9-dev_4.9.3-13ubuntu2_amd64.deb ...\n",
            "Unpacking libx32gcc-4.9-dev (4.9.3-13ubuntu2) ...\n",
            "Selecting previously unselected package gcc-4.9-multilib.\n",
            "Preparing to unpack .../45-gcc-4.9-multilib_4.9.3-13ubuntu2_amd64.deb ...\n",
            "Unpacking gcc-4.9-multilib (4.9.3-13ubuntu2) ...\n",
            "Selecting previously unselected package libgmpxx4ldbl:amd64.\n",
            "Preparing to unpack .../46-libgmpxx4ldbl_2%3a6.1.2+dfsg-2_amd64.deb ...\n",
            "Unpacking libgmpxx4ldbl:amd64 (2:6.1.2+dfsg-2) ...\n",
            "Selecting previously unselected package libgmp-dev:amd64.\n",
            "Preparing to unpack .../47-libgmp-dev_2%3a6.1.2+dfsg-2_amd64.deb ...\n",
            "Unpacking libgmp-dev:amd64 (2:6.1.2+dfsg-2) ...\n",
            "Selecting previously unselected package gcc-4.9-plugin-dev.\n",
            "Preparing to unpack .../48-gcc-4.9-plugin-dev_4.9.3-13ubuntu2_amd64.deb ...\n",
            "Unpacking gcc-4.9-plugin-dev (4.9.3-13ubuntu2) ...\n",
            "Selecting previously unselected package libmpfr-dev:amd64.\n",
            "Preparing to unpack .../49-libmpfr-dev_4.0.1-1_amd64.deb ...\n",
            "Unpacking libmpfr-dev:amd64 (4.0.1-1) ...\n",
            "Selecting previously unselected package libmpc-dev:amd64.\n",
            "Preparing to unpack .../50-libmpc-dev_1.1.0-1_amd64.deb ...\n",
            "Unpacking libmpc-dev:amd64 (1.1.0-1) ...\n",
            "Selecting previously unselected package gcc-7-plugin-dev.\n",
            "Preparing to unpack .../51-gcc-7-plugin-dev_7.5.0-3ubuntu1~18.04_amd64.deb ...\n",
            "Unpacking gcc-7-plugin-dev (7.5.0-3ubuntu1~18.04) ...\n",
            "Selecting previously unselected package iverilog.\n",
            "Preparing to unpack .../52-iverilog_10.1-0.1build1_amd64.deb ...\n",
            "Unpacking iverilog (10.1-0.1build1) ...\n",
            "Selecting previously unselected package libbdd0c2.\n",
            "Preparing to unpack .../53-libbdd0c2_2.4-11_amd64.deb ...\n",
            "Unpacking libbdd0c2 (2.4-11) ...\n",
            "Selecting previously unselected package libbdd-dev.\n",
            "Preparing to unpack .../54-libbdd-dev_2.4-11_amd64.deb ...\n",
            "Unpacking libbdd-dev (2.4-11) ...\n",
            "Selecting previously unselected package libclang-11-dev.\n",
            "Preparing to unpack .../55-libclang-11-dev_1%3a11.1.0~++20210428103915+1fdec59bffc1-1~exp1~20210428204556.164_amd64.deb ...\n",
            "Unpacking libclang-11-dev (1:11.1.0~++20210428103915+1fdec59bffc1-1~exp1~20210428204556.164) ...\n",
            "Selecting previously unselected package libclang-6.0-dev.\n",
            "Preparing to unpack .../56-libclang-6.0-dev_1%3a6.0-1ubuntu2_amd64.deb ...\n",
            "Unpacking libclang-6.0-dev (1:6.0-1ubuntu2) ...\n",
            "Selecting previously unselected package verilator.\n",
            "Preparing to unpack .../57-verilator_3.916-1build1_amd64.deb ...\n",
            "Unpacking verilator (3.916-1build1) ...\n",
            "Setting up libc6-x32 (2.27-3ubuntu1.4) ...\n",
            "Setting up libx32gcc1 (1:8.4.0-1ubuntu1~18.04) ...\n",
            "Setting up lib32gomp1 (8.4.0-1ubuntu1~18.04) ...\n",
            "Setting up libbdd0c2 (2.4-11) ...\n",
            "Setting up lib32asan4 (7.5.0-3ubuntu1~18.04) ...\n",
            "Setting up lib32mpx2 (8.4.0-1ubuntu1~18.04) ...\n",
            "Setting up iverilog (10.1-0.1build1) ...\n",
            "Setting up libllvm11:amd64 (1:11.1.0~++20210428103915+1fdec59bffc1-1~exp1~20210428204556.164) ...\n",
            "Setting up libx32stdc++6 (8.4.0-1ubuntu1~18.04) ...\n",
            "Setting up libclang-6.0-dev (1:6.0-1ubuntu2) ...\n",
            "Setting up lib32atomic1 (8.4.0-1ubuntu1~18.04) ...\n",
            "Setting up libx32atomic1 (8.4.0-1ubuntu1~18.04) ...\n",
            "Setting up libx32gomp1 (8.4.0-1ubuntu1~18.04) ...\n",
            "Setting up libx32itm1 (8.4.0-1ubuntu1~18.04) ...\n",
            "Setting up libmpfr4:amd64 (3.1.4-1) ...\n",
            "Setting up gcc-4.9-base:amd64 (4.9.3-13ubuntu2) ...\n",
            "Setting up verilator (3.916-1build1) ...\n",
            "Setting up libgmpxx4ldbl:amd64 (2:6.1.2+dfsg-2) ...\n",
            "Setting up lib32ubsan0 (7.5.0-3ubuntu1~18.04) ...\n",
            "Setting up lib32quadmath0 (8.4.0-1ubuntu1~18.04) ...\n",
            "Setting up lib32cilkrts5 (7.5.0-3ubuntu1~18.04) ...\n",
            "Setting up libc6-dev-i386 (2.27-3ubuntu1.4) ...\n",
            "Setting up libc6-dev-x32 (2.27-3ubuntu1.4) ...\n",
            "Setting up lib32itm1 (8.4.0-1ubuntu1~18.04) ...\n",
            "Setting up libx32quadmath0 (8.4.0-1ubuntu1~18.04) ...\n",
            "Setting up libclang1-11 (1:11.1.0~++20210428103915+1fdec59bffc1-1~exp1~20210428204556.164) ...\n",
            "Setting up libclang-cpp11 (1:11.1.0~++20210428103915+1fdec59bffc1-1~exp1~20210428204556.164) ...\n",
            "Setting up libgmp-dev:amd64 (2:6.1.2+dfsg-2) ...\n",
            "Setting up libx32asan4 (7.5.0-3ubuntu1~18.04) ...\n",
            "Setting up libx32cilkrts5 (7.5.0-3ubuntu1~18.04) ...\n",
            "Setting up libclang-common-11-dev (1:11.1.0~++20210428103915+1fdec59bffc1-1~exp1~20210428204556.164) ...\n",
            "Setting up libx32ubsan0 (7.5.0-3ubuntu1~18.04) ...\n",
            "Setting up libbdd-dev (2.4-11) ...\n",
            "Setting up cpp-4.9 (4.9.3-13ubuntu2) ...\n",
            "Setting up libx32gcc-7-dev (7.5.0-3ubuntu1~18.04) ...\n",
            "Setting up libx32asan1 (4.9.3-13ubuntu2) ...\n",
            "Setting up clang-11 (1:11.1.0~++20210428103915+1fdec59bffc1-1~exp1~20210428204556.164) ...\n",
            "Setting up libasan1:amd64 (4.9.3-13ubuntu2) ...\n",
            "Setting up libgcc-4.9-dev:amd64 (4.9.3-13ubuntu2) ...\n",
            "Setting up lib32gcc-7-dev (7.5.0-3ubuntu1~18.04) ...\n",
            "Setting up lib32asan1 (4.9.3-13ubuntu2) ...\n",
            "Setting up libx32gcc-4.9-dev (4.9.3-13ubuntu2) ...\n",
            "Setting up libstdc++-4.9-dev:amd64 (4.9.3-13ubuntu2) ...\n",
            "Setting up libmpfr-dev:amd64 (4.0.1-1) ...\n",
            "Setting up libclang-11-dev (1:11.1.0~++20210428103915+1fdec59bffc1-1~exp1~20210428204556.164) ...\n",
            "Setting up libx32stdc++-7-dev (7.5.0-3ubuntu1~18.04) ...\n",
            "Setting up gcc-4.9 (4.9.3-13ubuntu2) ...\n",
            "Setting up gcc-7-multilib (7.5.0-3ubuntu1~18.04) ...\n",
            "Setting up gcc-4.9-plugin-dev (4.9.3-13ubuntu2) ...\n",
            "Setting up lib32stdc++-7-dev (7.5.0-3ubuntu1~18.04) ...\n",
            "Setting up g++-7-multilib (7.5.0-3ubuntu1~18.04) ...\n",
            "Setting up lib32gcc-4.9-dev (4.9.3-13ubuntu2) ...\n",
            "Setting up g++-4.9 (4.9.3-13ubuntu2) ...\n",
            "Setting up libmpc-dev:amd64 (1.1.0-1) ...\n",
            "Setting up gcc-4.9-multilib (4.9.3-13ubuntu2) ...\n",
            "Setting up gcc-7-plugin-dev (7.5.0-3ubuntu1~18.04) ...\n",
            "Setting up gcc-multilib (4:7.4.0-1ubuntu2.3) ...\n",
            "Setting up g++-multilib (4:7.4.0-1ubuntu2.3) ...\n",
            "Processing triggers for man-db (2.8.3-2ubuntu0.1) ...\n",
            "Processing triggers for libc-bin (2.27-3ubuntu1.2) ...\n",
            "/sbin/ldconfig.real: /usr/local/lib/python3.7/dist-packages/ideep4py/lib/libmkldnn.so.0 is not a symbolic link\n",
            "\n",
            "Cloning into 'bambu-tutorial'...\n",
            "remote: Enumerating objects: 214, done.\u001b[K\n",
            "remote: Counting objects: 100% (58/58), done.\u001b[K\n",
            "remote: Compressing objects: 100% (46/46), done.\u001b[K\n",
            "remote: Total 214 (delta 13), reused 56 (delta 11), pack-reused 156\u001b[K\n",
            "Receiving objects: 100% (214/214), 297.12 MiB | 37.02 MiB/s, done.\n",
            "Resolving deltas: 100% (35/35), done.\n",
            "env: PATH=/opt/panda/bin:/usr/local/nvidia/bin:/usr/local/cuda/bin:/usr/local/sbin:/usr/local/bin:/usr/sbin:/usr/bin:/sbin:/bin:/tools/node/bin:/tools/google-cloud-sdk/bin:/opt/bin\n"
          ],
          "name": "stdout"
        }
      ]
    },
    {
      "cell_type": "markdown",
      "metadata": {
        "id": "la-zNHdckW4f"
      },
      "source": [
        "# **Introduction**\n",
        "\n",
        "Have a look at the C code for **Exercise 1**: /content/bambu-tutorial/01-introduction/Exercise1/module.c\n",
        "\n",
        "Launch bambu:"
      ]
    },
    {
      "cell_type": "code",
      "metadata": {
        "id": "pjUguz8lZr_2"
      },
      "source": [
        "%cd /content/bambu-tutorial/01-introduction/Exercise1\n",
        "!bambu icrc.c --top-fname=icrc1 --simulator=VERILATOR --simulate --generate-tb=test_icrc1.xml -v2 --print-dot --pretty-print=a.c 2>&1 | tee icrc1.log"
      ],
      "execution_count": null,
      "outputs": []
    },
    {
      "cell_type": "markdown",
      "metadata": {
        "id": "zXTGPFLA1Dmj"
      },
      "source": [
        "Inspect the generated files in the explorer tab on the left:\n",
        "\n",
        "*   icrc1.v\n",
        "*   test_icrc1.xml\n",
        "*   simulate_icrc1.sh\n",
        "*   synthesize_Synthesis_icrc1.sh\n",
        "\n",
        "\n",
        "\n",
        "Visualize the FSM:"
      ]
    },
    {
      "cell_type": "code",
      "metadata": {
        "id": "IYUayuTqzb2I"
      },
      "source": [
        "from graphviz import Source\n",
        "Source.from_file('HLS_output/dot/icrc1/HLS_STGraph.dot')"
      ],
      "execution_count": null,
      "outputs": []
    },
    {
      "cell_type": "markdown",
      "metadata": {
        "id": "1vnkBTJD-lzY"
      },
      "source": [
        "Navigate through the explorer to see the code for other exercises, **edit** this box to execute them:"
      ]
    },
    {
      "cell_type": "code",
      "metadata": {
        "id": "IoMlPfH7-wMD"
      },
      "source": [
        "%cd /content/bambu-tutorial/01-introduction/Exercise2\n",
        "!./bambu.sh"
      ],
      "execution_count": null,
      "outputs": []
    },
    {
      "cell_type": "markdown",
      "metadata": {
        "id": "BZdmA4VKfyzL"
      },
      "source": [
        "# **Target selection and tool integration**\n",
        "\n",
        "**Exercise 1**: synthesize a module that returns the minimum and maximum value in an array.\n",
        "\n",
        "Start by modifying the code below:"
      ]
    },
    {
      "cell_type": "code",
      "metadata": {
        "id": "paTFkaqqiQBk"
      },
      "source": [
        "%cd /content/bambu-tutorial/02-target_customization/Exercise1/"
      ],
      "execution_count": null,
      "outputs": []
    },
    {
      "cell_type": "code",
      "metadata": {
        "id": "Qk6YNsG6hFS8"
      },
      "source": [
        "%%writefile minmax.c\n",
        "void max(int input[10], int * max)\n",
        "{\n",
        "   int local_max = input[0];\n",
        "   int i = 0;\n",
        "   for(i = 0; i < 10; i++)\n",
        "   {\n",
        "      if(input[i] > local_max)\n",
        "      {\n",
        "         local_max = input[i];\n",
        "      }\n",
        "   }\n",
        "   *max = local_max;\n",
        "}"
      ],
      "execution_count": null,
      "outputs": []
    },
    {
      "cell_type": "markdown",
      "metadata": {
        "id": "l2LzyiJbhMIs"
      },
      "source": [
        "Synthesize with bambu:"
      ]
    },
    {
      "cell_type": "code",
      "metadata": {
        "id": "ghLrn4d0hOH_"
      },
      "source": [
        "!bambu minmax.c"
      ],
      "execution_count": null,
      "outputs": []
    },
    {
      "cell_type": "markdown",
      "metadata": {
        "id": "mJgyQoCPBfAz"
      },
      "source": [
        "**Exercise 2**: write a testbench to test arrays with different elemets and different sizes.\n",
        "\n",
        "Start by modifying the code below **(change parameter names so that they correspond to function arguments in your code)**:"
      ]
    },
    {
      "cell_type": "code",
      "metadata": {
        "id": "5oOodjt2Bz9P"
      },
      "source": [
        "%%writefile test.xml\n",
        "<?xml version=\"1.0\"?>\n",
        "<function>\n",
        "   <testbench input=\"{0,1,2,3,4}\" num_elements=\"5\"/>\n",
        "</function>"
      ],
      "execution_count": null,
      "outputs": []
    },
    {
      "cell_type": "code",
      "metadata": {
        "id": "_n8JLBQYCzIA"
      },
      "source": [
        "!bambu minmax.c --generate-tb=test.xml --simulate"
      ],
      "execution_count": null,
      "outputs": []
    },
    {
      "cell_type": "markdown",
      "metadata": {
        "id": "cbLOvR1FEFoP"
      },
      "source": [
        "**Exercise 3**: compare simulations across different target platforms and frequencies.\n",
        "\n",
        "Start from the given command and modify the options appropriately to test the following combinations:\n",
        "\n",
        "\n",
        "*   xc4vlx100-10ff1513 – 66MHz\n",
        "*   5SGXEA7N2F45C1 – 200MHz\n",
        "*   xc7vx690t-3ffg1930-VVD – 100MHz\n",
        "*   xc7vx690t-3ffg1930-VVD – 333MHz\n",
        "*   xc7vx690t-3ffg1930-VVD – 400MHz\n",
        "\n"
      ]
    },
    {
      "cell_type": "code",
      "metadata": {
        "id": "FryYdWLmEh81"
      },
      "source": [
        "!bambu minmax.c --device-name=xc4vlx100-10ff1513 --clock-period=15 --simulate"
      ],
      "execution_count": null,
      "outputs": []
    },
    {
      "cell_type": "markdown",
      "metadata": {
        "id": "IlQDB6nqHqz0"
      },
      "source": [
        "# **Optimizations**\n",
        "\n",
        "## **Exercise 1**: \n",
        "\n",
        "Modify Bambu options to evaluate the effect of:\n",
        "\n",
        "\n",
        "*   different levels of optimization (-O0, -O1, -O2, -O3, -Os)\n",
        "*   vectorization (-ftree-vectorize)\n",
        "*   inlining (-finline-limit=100000)\n",
        "*   different frontend compilers (--compiler={I386_GCC49|I386_GCC7|I386_CLANG6|I386_CLANG11})\n"
      ]
    },
    {
      "cell_type": "markdown",
      "metadata": {
        "id": "dWWTy4TGZLfk"
      },
      "source": [
        "##### **ADPCM from CHStone benchmark suite**\n",
        "Adaptive Diferential Pulse-Code Modulation is an algorithm used to perform audio compression (mainly in telephony). It is part of the CHStone benchmark suite for C-based HLS tools."
      ]
    },
    {
      "cell_type": "code",
      "metadata": {
        "id": "YOXiFqzSIDR9"
      },
      "source": [
        "%cd /content/bambu-tutorial/03-optimizations/Exercise1/\n",
        "!bambu adpcm.c -O0 --simulate"
      ],
      "execution_count": null,
      "outputs": []
    },
    {
      "cell_type": "markdown",
      "metadata": {
        "id": "mJOV50V4IiE2"
      },
      "source": [
        "## **Exercise 2**: \n",
        "\n",
        "Use the command that yielded the best result in Exercise 1 and verify if SDC scheduling can introduce further improvements.\n",
        "\n",
        "* -s or --speculative-sdc-scheduling"
      ]
    },
    {
      "cell_type": "code",
      "metadata": {
        "id": "Qi_ZpIr1IzZ7"
      },
      "source": [
        "%cd /content/bambu-tutorial/03-optimizations/Exercise1/\n",
        "!bambu adpcm.c -O0 --simulate"
      ],
      "execution_count": null,
      "outputs": []
    },
    {
      "cell_type": "markdown",
      "metadata": {
        "id": "StGBkKaJJEfr"
      },
      "source": [
        "## **Exercise 3**:\n",
        "\n",
        "Modify Bambu options to evaluate the effect of different integer division implementations.\n",
        "\n",
        "--hls-div=<method\\>\n",
        "* none  - use a HDL based pipelined restoring division\n",
        "* nr1   - use a C-based non-restoring division with unrolling factor equal to 1 (default)\n",
        "* nr2   - use a C-based non-restoring division with unrolling factor equal to 2\n",
        "* NR    - use a C-based Newton-Raphson division\n",
        "* as    - use a C-based align divisor shift dividend method\n"
      ]
    },
    {
      "cell_type": "markdown",
      "metadata": {
        "id": "GNUiSuZVbBNS"
      },
      "source": [
        "##### **FPDiv from CHStone**\n",
        "Soft floating-point division implementation from the CHStone benchmark suite for C-based HLS."
      ]
    },
    {
      "cell_type": "code",
      "metadata": {
        "id": "bnEJ4nwuJLfo"
      },
      "source": [
        "%cd /content/bambu-tutorial/03-optimizations/Exercise3/\n",
        "!bambu dfdiv.c --simulate --clock-period=15 --hls-div=none"
      ],
      "execution_count": null,
      "outputs": []
    },
    {
      "cell_type": "markdown",
      "metadata": {
        "id": "YSRwNv1o2Jqx"
      },
      "source": [
        "## **Exercise 4**: \n",
        "\n",
        "Write C implementation that compute the following function:\n",
        "\n",
        "# $awesome\\_math(a,b,c) = acos(\\frac{a^2+b^2-c^2}{2ab})$\n",
        "\n",
        "Experiment with single and double precision data types, different softfloat and libm implementations offered by bambu."
      ]
    },
    {
      "cell_type": "markdown",
      "metadata": {
        "id": "mGggAqUu6SJv"
      },
      "source": [
        "Start by editing this code and then try different bambu options:\n",
        "* Different floating-point arithmetic implementations (--softfloat, --soft-fp, --flopoco)\n",
        "* Different libm implementations (--libm-std-rounding)"
      ]
    },
    {
      "cell_type": "code",
      "metadata": {
        "id": "LuhiArbj6XnA"
      },
      "source": [
        "%%writefile /content/bambu-tutorial/03-optimizations/Exercise4/module.c\n",
        "#include <math.h>\n",
        "float awesome_math(float a, float b, float c)\n",
        "{\n",
        "   return acosf((powf(a,2) + powf(b,2) - powf(c,2))/(2*a*b));\n",
        "}"
      ],
      "execution_count": null,
      "outputs": []
    },
    {
      "cell_type": "code",
      "metadata": {
        "id": "_Rg4Gthy2vDm"
      },
      "source": [
        "%cd /content/bambu-tutorial/03-optimizations/Exercise4/\n",
        "!bambu module.c -O3 -lm --simulate --top-fname=awesome_math --generate-tb=\"a=3.0,b=4.0,c=5.0\" --speculative-sdc-scheduling --libm-std-rounding --hls-div=none --soft-float"
      ],
      "execution_count": null,
      "outputs": []
    }
  ]
}