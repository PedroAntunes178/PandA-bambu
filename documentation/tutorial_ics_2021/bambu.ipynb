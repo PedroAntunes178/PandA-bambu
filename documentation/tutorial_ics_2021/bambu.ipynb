{
  "nbformat": 4,
  "nbformat_minor": 0,
  "metadata": {
    "colab": {
      "name": "bambu.ipynb",
      "provenance": [],
      "collapsed_sections": []
    },
    "kernelspec": {
      "name": "python3",
      "display_name": "Python 3"
    },
    "language_info": {
      "name": "python"
    }
  },
  "cells": [
    {
      "cell_type": "markdown",
      "metadata": {
        "id": "c97blcSRzP24"
      },
      "source": [
        "# **Initial setup**\n",
        "\n",
        "Install Bambu and required packages:"
      ]
    },
    {
      "cell_type": "code",
      "metadata": {
        "id": "ZoxqLkfA9zqM"
      },
      "source": [
        "% pip install gdown\n",
        "!gdown --id 1TRRbCaOeKFK83DtxQfOuGNA_ZP0RLYSG\n",
        "!tar xvf dist.tar.xz -C /"
      ],
      "execution_count": null,
      "outputs": []
    },
    {
      "cell_type": "code",
      "metadata": {
        "id": "LCIFdCihzM6S"
      },
      "source": [
        "!apt install verilator iverilog clang-6.0 libclang-6.0-dev gcc-7-multilib libbdd-dev autoconf autoconf-archive automake libtool"
      ],
      "execution_count": null,
      "outputs": []
    },
    {
      "cell_type": "code",
      "metadata": {
        "id": "XHBLNA5L-LGj"
      },
      "source": [
        "!git clone https://github.com/SerenaC94/bambu-tutorial.git\n",
        "%cd bambu-tutorial"
      ],
      "execution_count": null,
      "outputs": []
    },
    {
      "cell_type": "markdown",
      "metadata": {
        "id": "FfqJ_WhOiB-A"
      },
      "source": [
        "Edit PATH variable:"
      ]
    },
    {
      "cell_type": "code",
      "metadata": {
        "id": "qFPREPl2IFbo"
      },
      "source": [
        "%env PATH=/opt/panda/bin:/usr/local/nvidia/bin:/usr/local/cuda/bin:/usr/local/sbin:/usr/local/bin:/usr/sbin:/usr/bin:/sbin:/bin:/tools/node/bin:/tools/google-cloud-sdk/bin:/opt/bin"
      ],
      "execution_count": null,
      "outputs": []
    },
    {
      "cell_type": "markdown",
      "metadata": {
        "id": "la-zNHdckW4f"
      },
      "source": [
        "# **Introduction**\n",
        "\n",
        "Have a look at the C code for **Exercise 1**: /content/bambu-tutorial/01-introduction/Exercise1/module.c\n",
        "\n",
        "Launch bambu:"
      ]
    },
    {
      "cell_type": "code",
      "metadata": {
        "id": "pjUguz8lZr_2"
      },
      "source": [
        "% cd /content/bambu-tutorial/01-introduction/Exercise1\n",
        "!bambu icrc.c --top-fname=icrc1 --simulator=VERILATOR --simulate --generate-tb=test_icrc1.xml -v2 --print-dot --pretty-print=a.c 2>&1 | tee icrc1.log"
      ],
      "execution_count": null,
      "outputs": []
    },
    {
      "cell_type": "markdown",
      "metadata": {
        "id": "zXTGPFLA1Dmj"
      },
      "source": [
        "Inspect the generated files in the explorer tab on the left:\n",
        "\n",
        "*   icrc1.v\n",
        "*   test_icrc1.xml\n",
        "*   simulate_icrc1.sh\n",
        "*   synthesize_Synthesis_icrc1.sh\n",
        "\n",
        "\n",
        "\n",
        "Visualize the FSM:"
      ]
    },
    {
      "cell_type": "code",
      "metadata": {
        "id": "IYUayuTqzb2I"
      },
      "source": [
        "from graphviz import Source\n",
        "Source.from_file('HLS_output/dot/icrc1/HLS_STGraph.dot')"
      ],
      "execution_count": null,
      "outputs": []
    },
    {
      "cell_type": "markdown",
      "metadata": {
        "id": "1vnkBTJD-lzY"
      },
      "source": [
        "Navigate through the explorer to see the code for other exercises, **edit** this box to execute them:"
      ]
    },
    {
      "cell_type": "code",
      "metadata": {
        "id": "IoMlPfH7-wMD"
      },
      "source": [
        "% cd /content/bambu-tutorial/01-introduction/Exercise2\n",
        "!./bambu.sh"
      ],
      "execution_count": null,
      "outputs": []
    },
    {
      "cell_type": "markdown",
      "metadata": {
        "id": "BZdmA4VKfyzL"
      },
      "source": [
        "# **Target selection and tool integration**\n",
        "\n",
        "**Exercise 1**: synthesize a module that returns the minimum and maximum value in an array.\n",
        "\n",
        "Start by modifying the code below:"
      ]
    },
    {
      "cell_type": "code",
      "metadata": {
        "id": "paTFkaqqiQBk"
      },
      "source": [
        "%cd /content/bambu-tutorial/02-target_customization/Exercise1/"
      ],
      "execution_count": null,
      "outputs": []
    },
    {
      "cell_type": "code",
      "metadata": {
        "id": "Qk6YNsG6hFS8"
      },
      "source": [
        "%%writefile minmax.c\n",
        "void max(int input[10], int * max)\n",
        "{\n",
        "   int local_max = input[0];\n",
        "   int i = 0;\n",
        "   for(i = 0; i < 10; i++)\n",
        "   {\n",
        "      if(input[i] > local_max)\n",
        "      {\n",
        "         local_max = input[i];\n",
        "      }\n",
        "   }\n",
        "   *max = local_max;\n",
        "}"
      ],
      "execution_count": null,
      "outputs": []
    },
    {
      "cell_type": "markdown",
      "metadata": {
        "id": "l2LzyiJbhMIs"
      },
      "source": [
        "Synthesize with bambu:"
      ]
    },
    {
      "cell_type": "code",
      "metadata": {
        "id": "ghLrn4d0hOH_"
      },
      "source": [
        "!bambu minmax.c"
      ],
      "execution_count": null,
      "outputs": []
    },
    {
      "cell_type": "markdown",
      "metadata": {
        "id": "mJgyQoCPBfAz"
      },
      "source": [
        "**Exercise 2**: write a testbench to test arrays with different elemets and different sizes.\n",
        "\n",
        "Start by modifying the code below **(change parameter names so that they correspond to function arguments in your code)**:"
      ]
    },
    {
      "cell_type": "code",
      "metadata": {
        "id": "5oOodjt2Bz9P"
      },
      "source": [
        "%%writefile test.xml\n",
        "<?xml version=\"1.0\"?>\n",
        "<function>\n",
        "   <testbench input=\"{0,1,2,3,4}\" num_elements=\"5\"/>\n",
        "</function>"
      ],
      "execution_count": null,
      "outputs": []
    },
    {
      "cell_type": "code",
      "metadata": {
        "id": "_n8JLBQYCzIA"
      },
      "source": [
        "!bambu minmax.c --generate-tb=test.xml --simulate"
      ],
      "execution_count": null,
      "outputs": []
    },
    {
      "cell_type": "markdown",
      "metadata": {
        "id": "cbLOvR1FEFoP"
      },
      "source": [
        "**Exercise 3**: compare simulations across different target platforms and frequencies.\n",
        "\n",
        "Start from the given command and modify the options appropriately to test the following combinations:\n",
        "\n",
        "\n",
        "*   xc4vlx100-10ff1513 – 66MHz\n",
        "*   5SGXEA7N2F45C1 – 200MHz\n",
        "*   xc7vx690t-3ffg1930-VVD – 100MHz\n",
        "*   xc7vx690t-3ffg1930-VVD – 333MHz\n",
        "*   xc7vx690t-3ffg1930-VVD – 400MHz\n",
        "\n"
      ]
    },
    {
      "cell_type": "code",
      "metadata": {
        "id": "FryYdWLmEh81"
      },
      "source": [
        "!bambu minmax.c --device-name=xc4vlx100-10ff1513 --clock-period=15 --simulate"
      ],
      "execution_count": null,
      "outputs": []
    },
    {
      "cell_type": "markdown",
      "metadata": {
        "id": "IlQDB6nqHqz0"
      },
      "source": [
        "# **Optimizations**\n",
        "\n",
        "**Exercise 1**: modify Bambu options to evaluate the effect of:\n",
        "\n",
        "\n",
        "*   different levels of optimization\n",
        "*   vectorization\n",
        "*   inlining\n"
      ]
    },
    {
      "cell_type": "code",
      "metadata": {
        "id": "YOXiFqzSIDR9"
      },
      "source": [
        "%cd /content/bambu-tutorial/03-optimizations/Exercise1/\n",
        "!bambu adpcm.c -O0 --simulate"
      ],
      "execution_count": null,
      "outputs": []
    },
    {
      "cell_type": "markdown",
      "metadata": {
        "id": "mJOV50V4IiE2"
      },
      "source": [
        "**Exercise 2**: use the command that yielded the best result in Exercise 1 and verify if SDC scheduling can introduce further improvements."
      ]
    },
    {
      "cell_type": "code",
      "metadata": {
        "id": "Qi_ZpIr1IzZ7"
      },
      "source": [
        "!bambu adpcm.c -O0 --simulate"
      ],
      "execution_count": null,
      "outputs": []
    },
    {
      "cell_type": "markdown",
      "metadata": {
        "id": "StGBkKaJJEfr"
      },
      "source": [
        "**Exercise 3**: modify Bambu options to evaluate the effect of different integer division implementations."
      ]
    },
    {
      "cell_type": "code",
      "metadata": {
        "id": "bnEJ4nwuJLfo"
      },
      "source": [
        "%cd /content/bambu-tutorial/03-optimizations/Exercise3/\n",
        "!bambu dfdiv.c --simulate --clock-period=15 --hls-div=none"
      ],
      "execution_count": null,
      "outputs": []
    },
    {
      "cell_type": "markdown",
      "metadata": {
        "id": "YSRwNv1o2Jqx"
      },
      "source": [
        "**Exercise 4**: write C functions that compute the following formula with single precision and double precision data types, experimenting with softfloat and libm implementations.\n",
        "\n",
        "![formula.png](data:image/png;base64,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)"
      ]
    },
    {
      "cell_type": "markdown",
      "metadata": {
        "id": "mGggAqUu6SJv"
      },
      "source": [
        "Start by editing this code and then try different bambu options:"
      ]
    },
    {
      "cell_type": "code",
      "metadata": {
        "id": "C5tEypGc7B0A"
      },
      "source": [
        "%cd /content/bambu-tutorial/03-optimizations/Exercise4/"
      ],
      "execution_count": null,
      "outputs": []
    },
    {
      "cell_type": "code",
      "metadata": {
        "id": "LuhiArbj6XnA"
      },
      "source": [
        "%%writefile module.c\n",
        "#include <math.h>\n",
        "float formula_pow(float a, float b, float c)\n",
        "{\n",
        "   return acosf((powf(a,2) + powf(b,2) - powf(c,2))/(2*a*b));\n",
        "}"
      ],
      "execution_count": null,
      "outputs": []
    },
    {
      "cell_type": "code",
      "metadata": {
        "id": "_Rg4Gthy2vDm"
      },
      "source": [
        "!bambu module.c -O3 -lm --simulate --top-fname=formula_pow --generate-tb=\"a=3.0,b=4.0,c=5.0\" --speculative-sdc-scheduling --libm-std-rounding --hls-div=none --soft-float"
      ],
      "execution_count": null,
      "outputs": []
    },
    {
      "cell_type": "markdown",
      "metadata": {
        "id": "xbsgMK4D-EYq"
      },
      "source": [
        "**USE THIS LATER**"
      ]
    },
    {
      "cell_type": "code",
      "metadata": {
        "id": "rGIIMMugjEim"
      },
      "source": [
        "!git clone https://github.com/SerenaC94/bambu-tutorial.git\n",
        "%cd bambu-tutorial\n",
        "!tar xvf dist.tar.xz -C /"
      ],
      "execution_count": null,
      "outputs": []
    }
  ]
}