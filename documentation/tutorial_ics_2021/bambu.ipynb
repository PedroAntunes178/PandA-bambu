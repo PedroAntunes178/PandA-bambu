{
  "nbformat": 4,
  "nbformat_minor": 0,
  "metadata": {
    "colab": {
      "name": "bambu.ipynb",
      "provenance": [],
      "collapsed_sections": [],
      "toc_visible": true
    },
    "kernelspec": {
      "name": "python3",
      "display_name": "Python 3",
      "language": "python"
    }
  },
  "cells": [
    {
      "cell_type": "markdown",
      "metadata": {
        "id": "c97blcSRzP24"
      },
      "source": [
        "# **Initial setup**\n",
        "\n",
        "Install Bambu and required packages:"
      ]
    },
    {
      "cell_type": "code",
      "metadata": {
        "id": "ZoxqLkfA9zqM",
        "tags": [
          "outputPrepend"
        ]
      },
      "source": [
        "!echo \"deb http://dk.archive.ubuntu.com/ubuntu/ xenial main universe\" >> /etc/apt/sources.list\n",
        "!echo \"deb http://apt.llvm.org/bionic/ llvm-toolchain-bionic-11 main\" >> /etc/apt/sources.list\n",
        "!apt-get -o Acquire::AllowInsecureRepositories=true update\n",
        "!apt-get -o Acquire::AllowInsecureRepositories=true --allow-unauthenticated install -y --no-install-recommends ca-certificates git libbdd-dev iverilog verilator gcc-4.9 gcc-4.9-plugin-dev gcc-4.9-multilib g++-4.9 g++-multilib gcc-multilib gcc-7-plugin-dev g++-multilib clang-6.0 libclang-6.0-dev clang-11 libclang-11-dev\n",
        "!git clone https://github.com/SerenaC94/bambu-tutorial.git\n",
        "!tar xf bambu-tutorial/panda-dist.tar.xz -C /"
      ],
      "execution_count": null,
      "outputs": []
    },
    {
      "cell_type": "markdown",
      "metadata": {
        "id": "G3ueZCx7YYpW"
      },
      "source": [
        "Edit PATH variable (to be repeated if the Google Colab runtime is restarted):"
      ]
    },
    {
      "cell_type": "code",
      "metadata": {
        "id": "dgqgZ30DYf27"
      },
      "source": [
        "%env PATH=/opt/panda/bin:/usr/local/nvidia/bin:/usr/local/cuda/bin:/usr/local/sbin:/usr/local/bin:/usr/sbin:/usr/bin:/sbin:/bin:/tools/node/bin:/tools/google-cloud-sdk/bin:/opt/bin"
      ],
      "execution_count": null,
      "outputs": []
    },
    {
      "cell_type": "markdown",
      "metadata": {
        "id": "la-zNHdckW4f"
      },
      "source": [
        "# **Introduction**\n"
      ]
    },
    {
      "cell_type": "markdown",
      "metadata": {
        "id": "la-zNHdckW4f"
      },
      "source": [
        "## **Exercise 1**\n",
        "\n",
        "Have a look at the C code in /content/bambu-tutorial/01-introduction/Exercise1/icrc.c\n",
        "\n",
        "Launch bambu:"
      ]
    },
    {
      "cell_type": "code",
      "metadata": {
        "id": "pjUguz8lZr_2"
      },
      "source": [
        "%cd /content/bambu-tutorial/01-introduction/Exercise1\n",
        "!bambu icrc.c --top-fname=icrc1 --simulator=VERILATOR --simulate --generate-tb=test_icrc1.xml -v2 --print-dot --pretty-print=a.c 2>&1 | tee icrc1.log"
      ],
      "execution_count": null,
      "outputs": []
    },
    {
      "cell_type": "markdown",
      "metadata": {
        "id": "zXTGPFLA1Dmj"
      },
      "source": [
        "Inspect the generated files in the explorer tab on the left:\n",
        "\n",
        "*   icrc1.v\n",
        "*   test_icrc1.xml\n",
        "*   simulate_icrc1.sh\n",
        "*   synthesize_Synthesis_icrc1.sh\n",
        "*   a.c\n",
        "\n",
        "\n",
        "\n",
        "Visualize the FSM:"
      ]
    },
    {
      "cell_type": "code",
      "metadata": {
        "id": "IYUayuTqzb2I"
      },
      "source": [
        "from graphviz import Source\n",
        "Source.from_file('HLS_output/dot/icrc1/HLS_STGraph.dot')"
      ],
      "execution_count": null,
      "outputs": []
    },
    {
      "cell_type": "markdown",
      "metadata": {
        "id": "cZUdpPMNA-Vk"
      },
      "source": [
        "## **Exercise 2**\n",
        "\n",
        "Look into /content/bambu-tutorial/01-introduction/Exercise2/tree.c\n",
        "\n",
        "Search and insertion in a binary tree\n",
        " - Two data structures: stack and binary tree\n",
        " - Static memory allocators\n",
        " - Tail recursive functions\n",
        " - Use of pointer to pointers (some HLSs have problems)"
      ]
    },
    {
      "cell_type": "code",
      "metadata": {
        "id": "IoMlPfH7-wMD"
      },
      "source": [
        "%cd /content/bambu-tutorial/01-introduction/Exercise2\n",
        "!./bambu.sh"
      ],
      "execution_count": null,
      "outputs": []
    },
    {
      "cell_type": "markdown",
      "metadata": {
        "id": "5oTPfkiRQ_HO"
      },
      "source": [
        "Inspect the generated files in the explorer tab on the left:\n",
        "\n",
        "*   bambu.sh\n",
        "*   profiling_results.txt"
      ]
    },
    {
      "cell_type": "markdown",
      "metadata": {
        "id": "A50OIi5sS_6C"
      },
      "source": [
        "\n",
        "## **Exercise 3**\n",
        "\n",
        "/content/bambu-tutorial/01-introduction/Exercise3/Keccak.c\n",
        "\n",
        "Crypto core: synthesis starting from .ll"
      ]
    },
    {
      "cell_type": "code",
      "metadata": {
        "id": "RempES6CTcvl"
      },
      "source": [
        "%cd /content/bambu-tutorial/01-introduction/Exercise3/\n",
        "!./bambu.sh"
      ],
      "execution_count": null,
      "outputs": []
    },
    {
      "cell_type": "markdown",
      "metadata": {
        "id": "TDEuJ3fLUIVH"
      },
      "source": [
        "Inspect the generated files in the explorer tab on the left:\n",
        "\n",
        "* bambu.sh\n",
        "* test.ll"
      ]
    },
    {
      "cell_type": "markdown",
      "metadata": {
        "id": "u55xe2k1YikL"
      },
      "source": [
        "Same crypto core but with clang11\n"
      ]
    },
    {
      "cell_type": "code",
      "metadata": {
        "id": "uxDYcFVDYRbM"
      },
      "source": [
        "%cd /content/bambu-tutorial/01-introduction/Exercise3/\n",
        "!./bambu-clang11.sh\n"
      ],
      "execution_count": null,
      "outputs": []
    },
    {
      "cell_type": "markdown",
      "metadata": {
        "id": "70S_CvTsZLcr"
      },
      "source": [
        "## **Exercise 4**\n",
        "\n",
        "/content/bambu-tutorial/01-introduction/Exercise4/LUdecomposition.c"
      ]
    },
    {
      "cell_type": "code",
      "metadata": {
        "id": "rVVbmuOLaDyk"
      },
      "source": [
        "%cd /content/bambu-tutorial/01-introduction/Exercise4/\n",
        "!./bambu.sh"
      ],
      "execution_count": null,
      "outputs": []
    },
    {
      "cell_type": "code",
      "metadata": {
        "id": "pb72PNDCaWJY"
      },
      "source": [
        "from graphviz import Source\n",
        "Source.from_file('ludecomp/HLS_output/dot/call_graph_final.dot')"
      ],
      "execution_count": null,
      "outputs": []
    },
    {
      "cell_type": "markdown",
      "metadata": {
        "id": "xOdDf6q7bocd"
      },
      "source": [
        "## **Exercise 5**\n",
        "\n",
        "/content/bambu-tutorial/01-introduction/Exercise5/main_test.c\n"
      ]
    },
    {
      "cell_type": "code",
      "metadata": {
        "id": "CyB40S-wcAsN"
      },
      "source": [
        "%cd /content/bambu-tutorial/01-introduction/Exercise5/\n",
        "!git pull\n",
        "!./bambu.sh"
      ],
      "execution_count": null,
      "outputs": []
    },
    {
      "cell_type": "markdown",
      "metadata": {
        "id": "IUtMMEpPc-qB"
      },
      "source": [
        "## **Exercise 6**\n",
        "\n",
        "- /content/bambu-tutorial/01-introduction/Exercise6/test.c \n",
        "- /content/bambu-tutorial/01-introduction/Exercise6/less.c \n",
        "- /content/bambu-tutorial/01-introduction/Exercise6/qsort.c"
      ]
    },
    {
      "cell_type": "code",
      "metadata": {
        "id": "vPpnKBSidsQf"
      },
      "source": [
        "%cd /content/bambu-tutorial/01-introduction/Exercise6/\n",
        "!./bambu.sh"
      ],
      "execution_count": null,
      "outputs": []
    },
    {
      "cell_type": "markdown",
      "metadata": {
        "id": "J6sGI0m8fJ1J"
      },
      "source": [
        "# **Target selection and tool integration**"
      ]
    },
    {
      "cell_type": "markdown",
      "metadata": {
        "id": "BZdmA4VKfyzL"
      },
      "source": [
        "## **Exercise 1**\n",
        "\n",
        "Synthesize a module that returns the minimum and maximum value in an array of integers with arbitrary size.\n",
        "Start by modifying the code below:"
      ]
    },
    {
      "cell_type": "code",
      "metadata": {
        "id": "Qk6YNsG6hFS8"
      },
      "source": [
        "%%writefile /content/bambu-tutorial/02-target_customization/Exercise1/minmax.c\n",
        "void max(int input[10], int * max)\n",
        "{\n",
        "   int local_max = input[0];\n",
        "   int i = 0;\n",
        "   for(i = 0; i < 10; i++)\n",
        "   {\n",
        "      if(input[i] > local_max)\n",
        "      {\n",
        "         local_max = input[i];\n",
        "      }\n",
        "   }\n",
        "   *max = local_max;\n",
        "}"
      ],
      "execution_count": null,
      "outputs": []
    },
    {
      "cell_type": "markdown",
      "metadata": {
        "id": "l2LzyiJbhMIs"
      },
      "source": [
        "Synthesize with Bambu:"
      ]
    },
    {
      "cell_type": "code",
      "metadata": {
        "id": "ghLrn4d0hOH_"
      },
      "source": [
        "%cd /content/bambu-tutorial/02-target_customization/Exercise1/\n",
        "!bambu minmax.c"
      ],
      "execution_count": null,
      "outputs": []
    },
    {
      "cell_type": "markdown",
      "metadata": {
        "id": "mJgyQoCPBfAz"
      },
      "source": [
        "## **Exercise 2**\n",
        "\n",
        "Write a testbench to test arrays with different elements and different sizes.\n",
        "\n",
        "Start by modifying the code below **(change parameter names so that they correspond to function arguments in your code)**:"
      ]
    },
    {
      "cell_type": "code",
      "metadata": {
        "id": "5oOodjt2Bz9P"
      },
      "source": [
        "%%writefile /content/bambu-tutorial/02-target_customization/Exercise1/testbench.xml\n",
        "<?xml version=\"1.0\"?>\n",
        "<function>\n",
        "   <testbench input=\"{0,1,2,3,4}\" num_elements=\"5\" max=\"0\" min=\"0\"/>\n",
        "</function>"
      ],
      "execution_count": null,
      "outputs": []
    },
    {
      "cell_type": "code",
      "metadata": {
        "id": "_n8JLBQYCzIA"
      },
      "source": [
        "!bambu minmax.c --generate-tb=testbench.xml --simulate"
      ],
      "execution_count": null,
      "outputs": []
    },
    {
      "cell_type": "markdown",
      "metadata": {
        "id": "cbLOvR1FEFoP"
      },
      "source": [
        "## **Exercise 3**\n",
        "Compare simulations across different target platforms and frequencies.\n",
        "\n",
        "Start from the given command and modify the options appropriately to test the following combinations:\n",
        "\n",
        "\n",
        "*   xc4vlx100-10ff1513 (Xilinx Virtex 4) – 66MHz\n",
        "*   5SGXEA7N2F45C1 (Intel Stratix V) – 200MHz\n",
        "*   xc7vx690t-3ffg1930-VVD (Xilinx Virtex 7) – 100MHz\n",
        "*   xc7vx690t-3ffg1930-VVD (Xilinx Virtex 7) – 333MHz\n",
        "*   xc7vx690t-3ffg1930-VVD (Xilinx Virtex 7) – 400MHz\n",
        "\n"
      ]
    },
    {
      "cell_type": "code",
      "metadata": {
        "id": "FryYdWLmEh81"
      },
      "source": [
        "!bambu minmax.c --device-name=xc4vlx100-10ff1513 --clock-period=15 --simulate --generate-tb=testbench.xml"
      ],
      "execution_count": null,
      "outputs": []
    },
    {
      "cell_type": "markdown",
      "metadata": {
        "id": "IlQDB6nqHqz0"
      },
      "source": [
        "# **Optimizations**\n"
      ]
    },
    {
      "cell_type": "markdown",
      "metadata": {
        "id": "dWWTy4TGZLfk"
      },
      "source": [
        "## **Exercise 1** \n",
        "\n",
        "Modify Bambu options to evaluate the effect of:\n",
        "\n",
        "\n",
        "*   different levels of optimization (-O0, -O1, -O2, -O3, -Os)\n",
        "*   vectorization (-ftree-vectorize)\n",
        "*   inlining (-finline-limit=100000)\n",
        "*   different frontend compilers (--compiler={I386_GCC49|I386_GCC7|I386_CLANG6|I386_CLANG11})\n",
        "\n",
        "#### **ADPCM from CHStone benchmark suite**\n",
        "Adaptive Diferential Pulse-Code Modulation is an algorithm used to perform audio compression (mainly in telephony). It is part of the CHStone benchmark suite for C-based HLS tools.\n",
        "* Yuko Hara, Hiroyuki Tomiyama, Shinya Honda and Hiroaki Takada, \"Proposal and Quantitative Analysis of the CHStone Benchmark Program Suite for Practical C-based High-level Synthesis\", *Journal of Information Processing*, Vol. 17, pp.242-254, (2009)."
      ]
    },
    {
      "cell_type": "code",
      "metadata": {
        "id": "YOXiFqzSIDR9"
      },
      "source": [
        "%cd /content/bambu-tutorial/03-optimizations/Exercise1/\n",
        "!bambu adpcm.c -O0 --simulate"
      ],
      "execution_count": null,
      "outputs": []
    },
    {
      "cell_type": "markdown",
      "metadata": {
        "id": "mJOV50V4IiE2"
      },
      "source": [
        "## **Exercise 2** \n",
        "\n",
        "Use the command that yielded the best result in Exercise 1 and verify if SDC scheduling can introduce further improvements.\n",
        "\n",
        "* -s or --speculative-sdc-scheduling"
      ]
    },
    {
      "cell_type": "code",
      "metadata": {
        "id": "Qi_ZpIr1IzZ7"
      },
      "source": [
        "%cd /content/bambu-tutorial/03-optimizations/Exercise1/\n",
        "!bambu adpcm.c -O0 --simulate"
      ],
      "execution_count": null,
      "outputs": []
    },
    {
      "cell_type": "markdown",
      "metadata": {
        "id": "StGBkKaJJEfr"
      },
      "source": [
        "## **Exercise 3**\n",
        "\n",
        "Modify Bambu options to evaluate the effect of different integer division implementations.\n",
        "\n",
        "--hls-div=<method\\>\n",
        "* none  - use a HDL based pipelined restoring division\n",
        "* nr1   - use a C-based non-restoring division with unrolling factor equal to 1 (default)\n",
        "* nr2   - use a C-based non-restoring division with unrolling factor equal to 2\n",
        "* NR    - use a C-based Newton-Raphson division\n",
        "* as    - use a C-based align divisor shift dividend method\n",
        "\n",
        "#### **FPDiv from CHStone**\n",
        "Soft floating-point division implementation from the CHStone benchmark suite for C-based HLS.\n",
        "* Yuko Hara, Hiroyuki Tomiyama, Shinya Honda and Hiroaki Takada, \"Proposal and Quantitative Analysis of the CHStone Benchmark Program Suite for Practical C-based High-level Synthesis\", *Journal of Information Processing*, Vol. 17, pp.242-254, (2009).\n"
      ]
    },
    {
      "cell_type": "code",
      "metadata": {
        "id": "bnEJ4nwuJLfo"
      },
      "source": [
        "%cd /content/bambu-tutorial/03-optimizations/Exercise3/\n",
        "!bambu dfdiv.c --simulate --clock-period=15 --hls-div=none"
      ],
      "execution_count": null,
      "outputs": []
    },
    {
      "cell_type": "markdown",
      "metadata": {
        "id": "YSRwNv1o2Jqx"
      },
      "source": [
        "## **Exercise 4** \n",
        "\n",
        "Write C implementation that compute the following function:\n",
        "\n",
        "# $awesome\\_math(a,b,c) = acos(\\frac{a^2+b^2-c^2}{2ab})$\n",
        "\n",
        "Experiment with single and double precision data types, different softfloat and libm implementations offered by bambu.\n",
        "\n",
        "Start by editing this code and then try different bambu options:\n",
        "* Different floating-point arithmetic implementations (--softfloat, --soft-fp, --flopoco)\n",
        "* Different libm implementations (--libm-std-rounding)\n",
        "* Different square implementation (pow, simple multiplication)"
      ]
    },
    {
      "cell_type": "code",
      "metadata": {
        "id": "LuhiArbj6XnA"
      },
      "source": [
        "%%writefile /content/bambu-tutorial/03-optimizations/Exercise4/module.c\n",
        "#include <math.h>\n",
        "float awesome_math(float a, float b, float c)\n",
        "{\n",
        "   return acosf((powf(a,2) + powf(b,2) - powf(c,2))/(2*a*b));\n",
        "}"
      ],
      "execution_count": null,
      "outputs": []
    },
    {
      "cell_type": "code",
      "metadata": {
        "id": "_Rg4Gthy2vDm"
      },
      "source": [
        "%cd /content/bambu-tutorial/03-optimizations/Exercise4/\n",
        "!bambu module.c -O3 -lm --simulate --top-fname=awesome_math --generate-tb=\"a=3.0,b=4.0,c=5.0\" --speculative-sdc-scheduling --libm-std-rounding --hls-div=none --soft-float"
      ],
      "execution_count": null,
      "outputs": []
    },
{
      "cell_type": "markdown",
      "metadata": {
        "id": "RLfPwBYWgl9v"
      },
      "source": [
        "# **SIMD vectorization**"
      ]
    },
    {
      "cell_type": "markdown",
      "metadata": {
        "id": "NKH7rLb8fgk7"
      },
      "source": [
        "## **Exercise 1** \n",
        "Generate an accelerator with vector size of 1.\n"
      ]
    },
    {
      "cell_type": "code",
      "metadata": {
        "id": "5isGCK0jgykN"
      },
      "source": [
        "%cd /content/bambu-tutorial/04-simd/Exercise1/\n",
        "!bambu --compiler=I386_GCC49 --device-name=5SGXEA7N2F45C1 --simulate -fwhole-program -fno-delete-null-pointer-checks --clock-period=10 --experimental-setup=BAMBU-BALANCED-MP -fdisable-tree-cunroll -fdisable-tree-ivopts --param max-inline-insns-auto=1000 histogram.c -fopenmp-simd=1 --pretty-print=output.c"
      ],
      "execution_count": null,
      "outputs": []
    },
    {
      "cell_type": "markdown",
      "metadata": {
        "id": "sduMUHPag6FE"
      },
      "source": [
        "Look into **output.c** to see the effects of code transformations."
      ]
    },
    {
      "cell_type": "markdown",
      "metadata": {
        "id": "Luq_0W6YhbnO"
      },
      "source": [
        "## **Exercise 2** \n",
        "**Edit** Bambu options to generate an accelerator with vector size of 4 and evaluate the speed-up."
      ]
    },
    {
      "cell_type": "code",
      "metadata": {
        "id": "_JyDjCrchnaq"
      },
      "source": [
        "!bambu --compiler=I386_GCC49 --device-name=5SGXEA7N2F45C1 --simulate -fwhole-program -fno-delete-null-pointer-checks --clock-period=10 --experimental-setup=BAMBU-BALANCED-MP -fdisable-tree-cunroll -fdisable-tree-ivopts --param max-inline-insns-auto=1000 histogram.c -fopenmp-simd=1 --pretty-print=output.c"
      ],
      "execution_count": null,
      "outputs": []
    },
    {
      "cell_type": "markdown",
      "metadata": {
        "id": "g5VDY9N3h4cv"
      },
      "source": [
        "## **Exercise 3** \n",
        "**Edit** Bambu options to generate accelerators with vector size equal to 2, 3, 4, and 8; evaluate the speed-up."
      ]
    },
    {
      "cell_type": "code",
      "metadata": {
        "id": "_OTW8OrNiJTe"
      },
      "source": [
        "!bambu --compiler=I386_GCC49 --device-name=5SGXEA7N2F45C1 --simulate -fwhole-program -fno-delete-null-pointer-checks --clock-period=10 --experimental-setup=BAMBU-BALANCED-MP -fdisable-tree-cunroll -fdisable-tree-ivopts --param max-inline-insns-auto=1000 histogram.c -fopenmp-simd=1 --pretty-print=output.c"
      ],
      "execution_count": null,
      "outputs": []
    },
    {
      "cell_type": "markdown",
      "metadata": {
        "id": "dqYtjGVigqpp"
      },
      "source": [
        "# **Context switching**"
      ]
    },
    {
      "cell_type": "markdown",
      "metadata": {
        "id": "gryqeIGXiRS0"
      },
      "source": [
        "## **Exercise 1** \n",
        "Create a sequential accelerator for the LUBM-t4 benchmark.\n",
        "\n",
        "Edit /common/bambu-tutorial/05-context-switch/Exercise1/bambu.sh as follows:\n",
        "\n",
        "\n",
        "*   set `search` as top function\n",
        "*   specify that all memories need to be allocated outside the accelerator\n",
        "*   set the external memory latency to 20 for both read and write\n",
        "*   add the `test-1.xml` testbench for simulation\n",
        "\n",
        "Hint: you can find out all Bambu options by running `bambu --help`."
      ]
    },
    {
      "cell_type": "code",
      "metadata": {
        "id": "B-9M47ZxHkui"
      },
      "source": [
        "%cd /content/bambu-tutorial/05-context-switch/Exercise1/\n",
        "!./bambu.sh"
      ],
      "execution_count": null,
      "outputs": []
    },
    {
      "cell_type": "markdown",
      "metadata": {
        "id": "enf-YqUHIK_V"
      },
      "source": [
        "## **Exercise 2** \n",
        "Create a parallel accelerator without context switching.\n",
        "\n",
        "Edit the script with Bambu options as follows:\n",
        "\n",
        "*   specify that 2 copies of the kernel need to be synthesized\n",
        "*   select 4 external memory banks with 2 channels\n",
        "*   disable context switching by setting the correspondent option to 1\n"
      ]
    },
    {
      "cell_type": "code",
      "metadata": {
        "id": "52HsQm4KaPiH"
      },
      "source": [
        "!./bambu.sh"
      ],
      "execution_count": null,
      "outputs": []
    },
    {
      "cell_type": "markdown",
      "metadata": {
        "id": "b2lheBF0azgJ"
      },
      "source": [
        "## **Exercise 3**\n",
        "Introduce context switching.\n",
        "\n",
        "Keep all options as before, but set 4 logic threads per kernel."
      ]
    },
    {
      "cell_type": "code",
      "metadata": {
        "id": "rzWIDXyAbVO8"
      },
      "source": [
        "!./bambu.sh"
      ],
      "execution_count": null,
      "outputs": []
    },
    {
      "cell_type": "markdown",
      "metadata": {
        "id": "FiiteRZ5ba6x"
      },
      "source": [
        "## **Exercise 4**\n",
        "Explore different configurations.\n",
        "\n",
        "Change the number of contexts, memory banks and memory channels to find a better solution."
      ]
    },
    {
      "cell_type": "code",
      "metadata": {
        "id": "lU-kWtVEbZFY"
      },
      "source": [
        "!./bambu.sh"
      ],
      "execution_count": null,
      "outputs": []
    }
  ]
}
